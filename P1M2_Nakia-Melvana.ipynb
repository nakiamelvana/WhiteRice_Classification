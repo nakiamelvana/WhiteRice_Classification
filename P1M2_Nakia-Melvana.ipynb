{
 "cells": [
  {
   "cell_type": "markdown",
   "metadata": {},
   "source": [
    "=================================================\n",
    "\n",
    "### Milestone 2\n",
    "\n",
    "Nama  : Nakia Melvana\n",
    "\n",
    "Batch : RMT-026\n",
    "\n",
    "**Program ini dibuat mendeteksi penyakit Diabetes berdasarkan input parameternya, seperti umur, gender, status perokok, dan lainnya menggunakan pemodelan Machine Learning dengan algoritma SVM, KNN, Random Forest, Decision Tree, dan XGBoost. Metric yang digunakan adalah akurasi, presisi, f1-score, dan recall. Selain itu juga digunakan Cross validation.**\n",
    "\n",
    "================================================="
   ]
  },
  {
   "cell_type": "markdown",
   "metadata": {},
   "source": [
    "# Conceptual Problems\n",
    "1. Jelaskan latar belakang adanya bagging dan cara kerja bagging !\n",
    "\n",
    "    Bagging (Bootstrap Aggregating) merupakan ensemble learning yang memiliki kegunaan untuk meningkatkan kinerja model dengan menggabungkan hasil dari beberapa model. Kelebihan utama dari bagging adalah mengurangi overfitting dan meningkatkan robustness dari model. \n",
    "\n",
    "    Cara kerjanya adalah dari keseluruhan jumlah data, akan di buat beberapa cluster. Data-data yang terkelompokkan tersebut akan diambil secara random sebanyak jumlah yang ditentukan. Misalnya ditentukan 100, berarti akan ada 100 kali training yang mana data nya akan di ambil secara random. Hasil dari training akan dibandingkan dan diambil paling banyak secara voting untuk klasifikasi dan secara rata-rata untuk regresi.  \n",
    "\n",
    "2. Jelaskan perbedaan cara kerja algoritma Random Forest dengan algoritma boosting yang Anda pilih !\n",
    "\n",
    "    **Random Forest:**\n",
    "- Setiap model dibuat secara independen dan paralel\n",
    "- Melakukan training model secara independen pada subset yang berbeda pada data pelatihan\n",
    "- Hasil prediksi merupakan hasil kalkulasi rata-rata untuk regresi dan voting untuk klasifikasi\n",
    "\n",
    "   **XGBoost:**\n",
    "- Merupakan sequential training\n",
    "- Menggunakan data yang terjadi misklasifikasi oleh model yang sebelumnya\n",
    "- hasil prediksi didapatkan dari weight averaging \n",
    "- XGBoost menggunakan teknik regularisasi dan shrinkage (learning rate) untuk mencegah overfitting dan memberikan kontrol yang lebih besar terhadap kompleksitas model.\n",
    "- XGBoost meminimalkan fungsi tujuan yang terdiri dari dua bagian: loss function (fungsi kerugian) yang mengukur kesalahan prediksi dan term regularisasi yang mengontrol kompleksitas model.\n",
    "\n",
    "3. Jelaskan apa yang dimaksud dengan Cross Validation !\n",
    "\n",
    "    Cross Validation merupakan suatu metode evaluasi performa model yang melibatkan pembagian dataset menjadi subset yang saling tumpang tindih yang disebut \"fold\". Tujuan utama dari cross validation adalah untuk mengukur seberapa baik model dapat menggeneralisasi ke data yang belum pernah dilihat sebelumnya. Metode ini membantu menghindari kesalahan evaluasi yang mungkin terjadi jika hanya satu pembagian data digunakan.\n",
    "\n",
    "  **Cara kerja cross validation:**\n",
    "- dataset dibagi menjadi k fold\n",
    "- setiap fold digunakan secara bergantian sebagai set pengujian, sementara fold lainnya sebagai set pelatihan\n",
    "- data dilatih pada set pelatihan dan diuji pada set pengujian dan dilakukan sebanyak k kali sehingga fold digunakan sebagai set pengujian satu kali\n",
    "- Hasil evaluasi dari setiap iterasi diambil rata-ratanya untuk memberikan metrik evaluasi kinerja model secara keseluruhan."
   ]
  },
  {
   "cell_type": "markdown",
   "metadata": {},
   "source": [
    "# Data Description\n",
    "1. `Age`: 13-level age category (_AGEG5YR see codebook)\n",
    "\n",
    "    1 = 18-24 / 2 = 25-29 / 3 = 30-34 / 4 = 35-39 / 5 = 40-44 / 6 = 45-49 / 7 = 50-54 / 8 = 55-59 / 9 = 60-64 / 10 = 65-69 / 11 = 70-74 / 12 = 75-79 / 13 = 80 or older\n",
    "\n",
    "2. `Sex`: patient's gender (1: male; 0: female)\n",
    "\n",
    "3. `HighChol`: 0 = no high cholesterol 1 = high cholesterol\n",
    "\n",
    "4. `CholCheck`: 0 = no cholesterol check in 5 years 1 = yes cholesterol check in 5 years\n",
    "\n",
    "5. `BMI`: Body Mass Index\n",
    "\n",
    "6. `Smoker`: Have you smoked at least 100 cigarettes in your entire life? [Note: 5 packs = 100 cigarettes] 0 = no 1 = yes\n",
    "\n",
    "7. `HeartDiseaseorAttack`: coronary heart disease (CHD) or myocardial infarction (MI) 0 = no 1 = yes\n",
    "\n",
    "8. `PhysActivity`: physical activity in past 30 days - not including job 0 = no 1 = yes\n",
    "\n",
    "9. `Fruits`: Consume Fruit 1 or more times per day 0 = no 1 = yes\n",
    "\n",
    "10. `Veggies`: Consume Vegetables 1 or more times per day 0 = no 1 = yes\n",
    "\n",
    "11. `HvyAlcoholConsump`: (adult men >=14 drinks per week and adult women>=7 drinks per week) 0 = no 1 = yes\n",
    "\n",
    "12. `GenHlth`: Would you say that in general your health is: scale 1-5 1 = excellent 2 = very good 3 = good 4 = fair 5 = poor\n",
    "\n",
    "13. `MentHlth`: days of poor mental health scale 1-30 days\n",
    "\n",
    "14. `PhysHlth`: physical illness or injury days in past 30 days scale 1-30\n",
    "\n",
    "15. `DiffWalk`: Do you have serious difficulty walking or climbing stairs? 0 = no 1 = yes\n",
    "\n",
    "16. `Stroke`: you ever had a stroke. 0 = no, 1 = yes\n",
    "\n",
    "17. `HighBP`: 0 = no high, BP 1 = high BP\n",
    "\n",
    "18. `Diabetes`: 0 = no diabetes, 1 = diabetes"
   ]
  },
  {
   "cell_type": "markdown",
   "metadata": {},
   "source": [
    "# Import Libraries"
   ]
  },
  {
   "cell_type": "code",
   "execution_count": 1,
   "metadata": {},
   "outputs": [],
   "source": [
    "# Import libraries yang dibutuhkan\n",
    "import pandas as pd\n",
    "import numpy as np\n",
    "import matplotlib.pyplot as plt\n",
    "import seaborn as sns\n",
    "import pickle\n",
    "import json\n",
    "\n",
    "from feature_engine.outliers import Winsorizer\n",
    "from sklearn.preprocessing import MinMaxScaler, OrdinalEncoder\n",
    "from sklearn.model_selection import train_test_split\n",
    "from scipy.stats import kendalltau, pearsonr\n",
    "from sklearn.compose import ColumnTransformer\n",
    "from sklearn.pipeline import Pipeline\n",
    "from sklearn.neighbors import KNeighborsClassifier\n",
    "from sklearn.svm import SVC\n",
    "from sklearn.tree import DecisionTreeClassifier\n",
    "from sklearn.ensemble import RandomForestClassifier\n",
    "from xgboost import XGBClassifier\n",
    "from sklearn.model_selection import GridSearchCV\n",
    "from sklearn.metrics import classification_report, accuracy_score, f1_score, make_scorer\n",
    "from sklearn.model_selection import GridSearchCV, cross_val_score, StratifiedKFold"
   ]
  },
  {
   "cell_type": "markdown",
   "metadata": {},
   "source": [
    "# Data Loading"
   ]
  },
  {
   "cell_type": "markdown",
   "metadata": {},
   "source": [
    "### Import dataset yang mau diolah menggunakan pandas "
   ]
  },
  {
   "cell_type": "code",
   "execution_count": 2,
   "metadata": {},
   "outputs": [
    {
     "data": {
      "text/html": [
       "<div>\n",
       "<style scoped>\n",
       "    .dataframe tbody tr th:only-of-type {\n",
       "        vertical-align: middle;\n",
       "    }\n",
       "\n",
       "    .dataframe tbody tr th {\n",
       "        vertical-align: top;\n",
       "    }\n",
       "\n",
       "    .dataframe thead th {\n",
       "        text-align: right;\n",
       "    }\n",
       "</style>\n",
       "<table border=\"1\" class=\"dataframe\">\n",
       "  <thead>\n",
       "    <tr style=\"text-align: right;\">\n",
       "      <th></th>\n",
       "      <th>Age</th>\n",
       "      <th>Sex</th>\n",
       "      <th>HighChol</th>\n",
       "      <th>CholCheck</th>\n",
       "      <th>BMI</th>\n",
       "      <th>Smoker</th>\n",
       "      <th>HeartDiseaseorAttack</th>\n",
       "      <th>PhysActivity</th>\n",
       "      <th>Fruits</th>\n",
       "      <th>Veggies</th>\n",
       "      <th>HvyAlcoholConsump</th>\n",
       "      <th>GenHlth</th>\n",
       "      <th>MentHlth</th>\n",
       "      <th>PhysHlth</th>\n",
       "      <th>DiffWalk</th>\n",
       "      <th>Stroke</th>\n",
       "      <th>HighBP</th>\n",
       "      <th>Diabetes</th>\n",
       "    </tr>\n",
       "  </thead>\n",
       "  <tbody>\n",
       "    <tr>\n",
       "      <th>0</th>\n",
       "      <td>4.0</td>\n",
       "      <td>1.0</td>\n",
       "      <td>0.0</td>\n",
       "      <td>1.0</td>\n",
       "      <td>26.0</td>\n",
       "      <td>0.0</td>\n",
       "      <td>0.0</td>\n",
       "      <td>1.0</td>\n",
       "      <td>0.0</td>\n",
       "      <td>1.0</td>\n",
       "      <td>0.0</td>\n",
       "      <td>3.0</td>\n",
       "      <td>5.0</td>\n",
       "      <td>30.0</td>\n",
       "      <td>0.0</td>\n",
       "      <td>0.0</td>\n",
       "      <td>1.0</td>\n",
       "      <td>0.0</td>\n",
       "    </tr>\n",
       "    <tr>\n",
       "      <th>1</th>\n",
       "      <td>12.0</td>\n",
       "      <td>1.0</td>\n",
       "      <td>1.0</td>\n",
       "      <td>1.0</td>\n",
       "      <td>26.0</td>\n",
       "      <td>1.0</td>\n",
       "      <td>0.0</td>\n",
       "      <td>0.0</td>\n",
       "      <td>1.0</td>\n",
       "      <td>0.0</td>\n",
       "      <td>0.0</td>\n",
       "      <td>3.0</td>\n",
       "      <td>0.0</td>\n",
       "      <td>0.0</td>\n",
       "      <td>0.0</td>\n",
       "      <td>1.0</td>\n",
       "      <td>1.0</td>\n",
       "      <td>0.0</td>\n",
       "    </tr>\n",
       "    <tr>\n",
       "      <th>2</th>\n",
       "      <td>13.0</td>\n",
       "      <td>1.0</td>\n",
       "      <td>0.0</td>\n",
       "      <td>1.0</td>\n",
       "      <td>26.0</td>\n",
       "      <td>0.0</td>\n",
       "      <td>0.0</td>\n",
       "      <td>1.0</td>\n",
       "      <td>1.0</td>\n",
       "      <td>1.0</td>\n",
       "      <td>0.0</td>\n",
       "      <td>1.0</td>\n",
       "      <td>0.0</td>\n",
       "      <td>10.0</td>\n",
       "      <td>0.0</td>\n",
       "      <td>0.0</td>\n",
       "      <td>0.0</td>\n",
       "      <td>0.0</td>\n",
       "    </tr>\n",
       "    <tr>\n",
       "      <th>3</th>\n",
       "      <td>11.0</td>\n",
       "      <td>1.0</td>\n",
       "      <td>1.0</td>\n",
       "      <td>1.0</td>\n",
       "      <td>28.0</td>\n",
       "      <td>1.0</td>\n",
       "      <td>0.0</td>\n",
       "      <td>1.0</td>\n",
       "      <td>1.0</td>\n",
       "      <td>1.0</td>\n",
       "      <td>0.0</td>\n",
       "      <td>3.0</td>\n",
       "      <td>0.0</td>\n",
       "      <td>3.0</td>\n",
       "      <td>0.0</td>\n",
       "      <td>0.0</td>\n",
       "      <td>1.0</td>\n",
       "      <td>0.0</td>\n",
       "    </tr>\n",
       "    <tr>\n",
       "      <th>4</th>\n",
       "      <td>8.0</td>\n",
       "      <td>0.0</td>\n",
       "      <td>0.0</td>\n",
       "      <td>1.0</td>\n",
       "      <td>29.0</td>\n",
       "      <td>1.0</td>\n",
       "      <td>0.0</td>\n",
       "      <td>1.0</td>\n",
       "      <td>1.0</td>\n",
       "      <td>1.0</td>\n",
       "      <td>0.0</td>\n",
       "      <td>2.0</td>\n",
       "      <td>0.0</td>\n",
       "      <td>0.0</td>\n",
       "      <td>0.0</td>\n",
       "      <td>0.0</td>\n",
       "      <td>0.0</td>\n",
       "      <td>0.0</td>\n",
       "    </tr>\n",
       "    <tr>\n",
       "      <th>5</th>\n",
       "      <td>1.0</td>\n",
       "      <td>0.0</td>\n",
       "      <td>0.0</td>\n",
       "      <td>1.0</td>\n",
       "      <td>18.0</td>\n",
       "      <td>0.0</td>\n",
       "      <td>0.0</td>\n",
       "      <td>1.0</td>\n",
       "      <td>1.0</td>\n",
       "      <td>1.0</td>\n",
       "      <td>0.0</td>\n",
       "      <td>2.0</td>\n",
       "      <td>7.0</td>\n",
       "      <td>0.0</td>\n",
       "      <td>0.0</td>\n",
       "      <td>0.0</td>\n",
       "      <td>0.0</td>\n",
       "      <td>0.0</td>\n",
       "    </tr>\n",
       "    <tr>\n",
       "      <th>6</th>\n",
       "      <td>13.0</td>\n",
       "      <td>1.0</td>\n",
       "      <td>1.0</td>\n",
       "      <td>1.0</td>\n",
       "      <td>26.0</td>\n",
       "      <td>1.0</td>\n",
       "      <td>0.0</td>\n",
       "      <td>1.0</td>\n",
       "      <td>1.0</td>\n",
       "      <td>1.0</td>\n",
       "      <td>1.0</td>\n",
       "      <td>1.0</td>\n",
       "      <td>0.0</td>\n",
       "      <td>0.0</td>\n",
       "      <td>0.0</td>\n",
       "      <td>0.0</td>\n",
       "      <td>0.0</td>\n",
       "      <td>0.0</td>\n",
       "    </tr>\n",
       "    <tr>\n",
       "      <th>7</th>\n",
       "      <td>6.0</td>\n",
       "      <td>1.0</td>\n",
       "      <td>0.0</td>\n",
       "      <td>1.0</td>\n",
       "      <td>31.0</td>\n",
       "      <td>1.0</td>\n",
       "      <td>0.0</td>\n",
       "      <td>0.0</td>\n",
       "      <td>1.0</td>\n",
       "      <td>1.0</td>\n",
       "      <td>0.0</td>\n",
       "      <td>4.0</td>\n",
       "      <td>0.0</td>\n",
       "      <td>0.0</td>\n",
       "      <td>0.0</td>\n",
       "      <td>0.0</td>\n",
       "      <td>0.0</td>\n",
       "      <td>0.0</td>\n",
       "    </tr>\n",
       "    <tr>\n",
       "      <th>8</th>\n",
       "      <td>3.0</td>\n",
       "      <td>0.0</td>\n",
       "      <td>0.0</td>\n",
       "      <td>1.0</td>\n",
       "      <td>32.0</td>\n",
       "      <td>0.0</td>\n",
       "      <td>0.0</td>\n",
       "      <td>1.0</td>\n",
       "      <td>1.0</td>\n",
       "      <td>1.0</td>\n",
       "      <td>0.0</td>\n",
       "      <td>3.0</td>\n",
       "      <td>0.0</td>\n",
       "      <td>0.0</td>\n",
       "      <td>0.0</td>\n",
       "      <td>0.0</td>\n",
       "      <td>0.0</td>\n",
       "      <td>0.0</td>\n",
       "    </tr>\n",
       "    <tr>\n",
       "      <th>9</th>\n",
       "      <td>6.0</td>\n",
       "      <td>1.0</td>\n",
       "      <td>0.0</td>\n",
       "      <td>1.0</td>\n",
       "      <td>27.0</td>\n",
       "      <td>1.0</td>\n",
       "      <td>0.0</td>\n",
       "      <td>0.0</td>\n",
       "      <td>1.0</td>\n",
       "      <td>1.0</td>\n",
       "      <td>0.0</td>\n",
       "      <td>3.0</td>\n",
       "      <td>0.0</td>\n",
       "      <td>6.0</td>\n",
       "      <td>0.0</td>\n",
       "      <td>0.0</td>\n",
       "      <td>0.0</td>\n",
       "      <td>0.0</td>\n",
       "    </tr>\n",
       "  </tbody>\n",
       "</table>\n",
       "</div>"
      ],
      "text/plain": [
       "    Age  Sex  HighChol  CholCheck   BMI  Smoker  HeartDiseaseorAttack  \\\n",
       "0   4.0  1.0       0.0        1.0  26.0     0.0                   0.0   \n",
       "1  12.0  1.0       1.0        1.0  26.0     1.0                   0.0   \n",
       "2  13.0  1.0       0.0        1.0  26.0     0.0                   0.0   \n",
       "3  11.0  1.0       1.0        1.0  28.0     1.0                   0.0   \n",
       "4   8.0  0.0       0.0        1.0  29.0     1.0                   0.0   \n",
       "5   1.0  0.0       0.0        1.0  18.0     0.0                   0.0   \n",
       "6  13.0  1.0       1.0        1.0  26.0     1.0                   0.0   \n",
       "7   6.0  1.0       0.0        1.0  31.0     1.0                   0.0   \n",
       "8   3.0  0.0       0.0        1.0  32.0     0.0                   0.0   \n",
       "9   6.0  1.0       0.0        1.0  27.0     1.0                   0.0   \n",
       "\n",
       "   PhysActivity  Fruits  Veggies  HvyAlcoholConsump  GenHlth  MentHlth  \\\n",
       "0           1.0     0.0      1.0                0.0      3.0       5.0   \n",
       "1           0.0     1.0      0.0                0.0      3.0       0.0   \n",
       "2           1.0     1.0      1.0                0.0      1.0       0.0   \n",
       "3           1.0     1.0      1.0                0.0      3.0       0.0   \n",
       "4           1.0     1.0      1.0                0.0      2.0       0.0   \n",
       "5           1.0     1.0      1.0                0.0      2.0       7.0   \n",
       "6           1.0     1.0      1.0                1.0      1.0       0.0   \n",
       "7           0.0     1.0      1.0                0.0      4.0       0.0   \n",
       "8           1.0     1.0      1.0                0.0      3.0       0.0   \n",
       "9           0.0     1.0      1.0                0.0      3.0       0.0   \n",
       "\n",
       "   PhysHlth  DiffWalk  Stroke  HighBP  Diabetes  \n",
       "0      30.0       0.0     0.0     1.0       0.0  \n",
       "1       0.0       0.0     1.0     1.0       0.0  \n",
       "2      10.0       0.0     0.0     0.0       0.0  \n",
       "3       3.0       0.0     0.0     1.0       0.0  \n",
       "4       0.0       0.0     0.0     0.0       0.0  \n",
       "5       0.0       0.0     0.0     0.0       0.0  \n",
       "6       0.0       0.0     0.0     0.0       0.0  \n",
       "7       0.0       0.0     0.0     0.0       0.0  \n",
       "8       0.0       0.0     0.0     0.0       0.0  \n",
       "9       6.0       0.0     0.0     0.0       0.0  "
      ]
     },
     "execution_count": 2,
     "metadata": {},
     "output_type": "execute_result"
    }
   ],
   "source": [
    "df = pd.read_csv('diabetes_data.csv')\n",
    "df.head(10)"
   ]
  },
  {
   "cell_type": "code",
   "execution_count": 3,
   "metadata": {},
   "outputs": [
    {
     "data": {
      "text/html": [
       "<div>\n",
       "<style scoped>\n",
       "    .dataframe tbody tr th:only-of-type {\n",
       "        vertical-align: middle;\n",
       "    }\n",
       "\n",
       "    .dataframe tbody tr th {\n",
       "        vertical-align: top;\n",
       "    }\n",
       "\n",
       "    .dataframe thead th {\n",
       "        text-align: right;\n",
       "    }\n",
       "</style>\n",
       "<table border=\"1\" class=\"dataframe\">\n",
       "  <thead>\n",
       "    <tr style=\"text-align: right;\">\n",
       "      <th></th>\n",
       "      <th>Age</th>\n",
       "      <th>Sex</th>\n",
       "      <th>HighChol</th>\n",
       "      <th>CholCheck</th>\n",
       "      <th>BMI</th>\n",
       "      <th>Smoker</th>\n",
       "      <th>HeartDiseaseorAttack</th>\n",
       "      <th>PhysActivity</th>\n",
       "      <th>Fruits</th>\n",
       "      <th>Veggies</th>\n",
       "      <th>HvyAlcoholConsump</th>\n",
       "      <th>GenHlth</th>\n",
       "      <th>MentHlth</th>\n",
       "      <th>PhysHlth</th>\n",
       "      <th>DiffWalk</th>\n",
       "      <th>Stroke</th>\n",
       "      <th>HighBP</th>\n",
       "      <th>Diabetes</th>\n",
       "    </tr>\n",
       "  </thead>\n",
       "  <tbody>\n",
       "    <tr>\n",
       "      <th>70682</th>\n",
       "      <td>9.0</td>\n",
       "      <td>0.0</td>\n",
       "      <td>0.0</td>\n",
       "      <td>1.0</td>\n",
       "      <td>37.0</td>\n",
       "      <td>0.0</td>\n",
       "      <td>0.0</td>\n",
       "      <td>0.0</td>\n",
       "      <td>0.0</td>\n",
       "      <td>0.0</td>\n",
       "      <td>0.0</td>\n",
       "      <td>4.0</td>\n",
       "      <td>0.0</td>\n",
       "      <td>30.0</td>\n",
       "      <td>1.0</td>\n",
       "      <td>0.0</td>\n",
       "      <td>1.0</td>\n",
       "      <td>1.0</td>\n",
       "    </tr>\n",
       "    <tr>\n",
       "      <th>70683</th>\n",
       "      <td>10.0</td>\n",
       "      <td>0.0</td>\n",
       "      <td>0.0</td>\n",
       "      <td>1.0</td>\n",
       "      <td>28.0</td>\n",
       "      <td>0.0</td>\n",
       "      <td>0.0</td>\n",
       "      <td>0.0</td>\n",
       "      <td>0.0</td>\n",
       "      <td>1.0</td>\n",
       "      <td>0.0</td>\n",
       "      <td>2.0</td>\n",
       "      <td>0.0</td>\n",
       "      <td>0.0</td>\n",
       "      <td>0.0</td>\n",
       "      <td>0.0</td>\n",
       "      <td>1.0</td>\n",
       "      <td>1.0</td>\n",
       "    </tr>\n",
       "    <tr>\n",
       "      <th>70684</th>\n",
       "      <td>9.0</td>\n",
       "      <td>1.0</td>\n",
       "      <td>1.0</td>\n",
       "      <td>1.0</td>\n",
       "      <td>27.0</td>\n",
       "      <td>0.0</td>\n",
       "      <td>1.0</td>\n",
       "      <td>1.0</td>\n",
       "      <td>0.0</td>\n",
       "      <td>1.0</td>\n",
       "      <td>0.0</td>\n",
       "      <td>4.0</td>\n",
       "      <td>30.0</td>\n",
       "      <td>5.0</td>\n",
       "      <td>0.0</td>\n",
       "      <td>0.0</td>\n",
       "      <td>1.0</td>\n",
       "      <td>1.0</td>\n",
       "    </tr>\n",
       "    <tr>\n",
       "      <th>70685</th>\n",
       "      <td>7.0</td>\n",
       "      <td>0.0</td>\n",
       "      <td>0.0</td>\n",
       "      <td>1.0</td>\n",
       "      <td>38.0</td>\n",
       "      <td>0.0</td>\n",
       "      <td>0.0</td>\n",
       "      <td>1.0</td>\n",
       "      <td>0.0</td>\n",
       "      <td>1.0</td>\n",
       "      <td>0.0</td>\n",
       "      <td>4.0</td>\n",
       "      <td>0.0</td>\n",
       "      <td>0.0</td>\n",
       "      <td>0.0</td>\n",
       "      <td>0.0</td>\n",
       "      <td>1.0</td>\n",
       "      <td>1.0</td>\n",
       "    </tr>\n",
       "    <tr>\n",
       "      <th>70686</th>\n",
       "      <td>11.0</td>\n",
       "      <td>1.0</td>\n",
       "      <td>1.0</td>\n",
       "      <td>1.0</td>\n",
       "      <td>27.0</td>\n",
       "      <td>0.0</td>\n",
       "      <td>0.0</td>\n",
       "      <td>1.0</td>\n",
       "      <td>1.0</td>\n",
       "      <td>0.0</td>\n",
       "      <td>0.0</td>\n",
       "      <td>4.0</td>\n",
       "      <td>0.0</td>\n",
       "      <td>30.0</td>\n",
       "      <td>0.0</td>\n",
       "      <td>0.0</td>\n",
       "      <td>0.0</td>\n",
       "      <td>1.0</td>\n",
       "    </tr>\n",
       "    <tr>\n",
       "      <th>70687</th>\n",
       "      <td>6.0</td>\n",
       "      <td>0.0</td>\n",
       "      <td>1.0</td>\n",
       "      <td>1.0</td>\n",
       "      <td>37.0</td>\n",
       "      <td>0.0</td>\n",
       "      <td>0.0</td>\n",
       "      <td>0.0</td>\n",
       "      <td>0.0</td>\n",
       "      <td>1.0</td>\n",
       "      <td>0.0</td>\n",
       "      <td>4.0</td>\n",
       "      <td>0.0</td>\n",
       "      <td>0.0</td>\n",
       "      <td>0.0</td>\n",
       "      <td>0.0</td>\n",
       "      <td>0.0</td>\n",
       "      <td>1.0</td>\n",
       "    </tr>\n",
       "    <tr>\n",
       "      <th>70688</th>\n",
       "      <td>10.0</td>\n",
       "      <td>1.0</td>\n",
       "      <td>1.0</td>\n",
       "      <td>1.0</td>\n",
       "      <td>29.0</td>\n",
       "      <td>1.0</td>\n",
       "      <td>1.0</td>\n",
       "      <td>0.0</td>\n",
       "      <td>1.0</td>\n",
       "      <td>1.0</td>\n",
       "      <td>0.0</td>\n",
       "      <td>2.0</td>\n",
       "      <td>0.0</td>\n",
       "      <td>0.0</td>\n",
       "      <td>1.0</td>\n",
       "      <td>0.0</td>\n",
       "      <td>0.0</td>\n",
       "      <td>1.0</td>\n",
       "    </tr>\n",
       "    <tr>\n",
       "      <th>70689</th>\n",
       "      <td>13.0</td>\n",
       "      <td>0.0</td>\n",
       "      <td>1.0</td>\n",
       "      <td>1.0</td>\n",
       "      <td>25.0</td>\n",
       "      <td>0.0</td>\n",
       "      <td>1.0</td>\n",
       "      <td>0.0</td>\n",
       "      <td>1.0</td>\n",
       "      <td>0.0</td>\n",
       "      <td>0.0</td>\n",
       "      <td>5.0</td>\n",
       "      <td>15.0</td>\n",
       "      <td>0.0</td>\n",
       "      <td>1.0</td>\n",
       "      <td>0.0</td>\n",
       "      <td>1.0</td>\n",
       "      <td>1.0</td>\n",
       "    </tr>\n",
       "    <tr>\n",
       "      <th>70690</th>\n",
       "      <td>11.0</td>\n",
       "      <td>0.0</td>\n",
       "      <td>1.0</td>\n",
       "      <td>1.0</td>\n",
       "      <td>18.0</td>\n",
       "      <td>0.0</td>\n",
       "      <td>0.0</td>\n",
       "      <td>0.0</td>\n",
       "      <td>0.0</td>\n",
       "      <td>0.0</td>\n",
       "      <td>0.0</td>\n",
       "      <td>4.0</td>\n",
       "      <td>0.0</td>\n",
       "      <td>0.0</td>\n",
       "      <td>1.0</td>\n",
       "      <td>0.0</td>\n",
       "      <td>1.0</td>\n",
       "      <td>1.0</td>\n",
       "    </tr>\n",
       "    <tr>\n",
       "      <th>70691</th>\n",
       "      <td>9.0</td>\n",
       "      <td>0.0</td>\n",
       "      <td>1.0</td>\n",
       "      <td>1.0</td>\n",
       "      <td>25.0</td>\n",
       "      <td>0.0</td>\n",
       "      <td>1.0</td>\n",
       "      <td>1.0</td>\n",
       "      <td>1.0</td>\n",
       "      <td>0.0</td>\n",
       "      <td>0.0</td>\n",
       "      <td>2.0</td>\n",
       "      <td>0.0</td>\n",
       "      <td>0.0</td>\n",
       "      <td>0.0</td>\n",
       "      <td>0.0</td>\n",
       "      <td>1.0</td>\n",
       "      <td>1.0</td>\n",
       "    </tr>\n",
       "  </tbody>\n",
       "</table>\n",
       "</div>"
      ],
      "text/plain": [
       "        Age  Sex  HighChol  CholCheck   BMI  Smoker  HeartDiseaseorAttack  \\\n",
       "70682   9.0  0.0       0.0        1.0  37.0     0.0                   0.0   \n",
       "70683  10.0  0.0       0.0        1.0  28.0     0.0                   0.0   \n",
       "70684   9.0  1.0       1.0        1.0  27.0     0.0                   1.0   \n",
       "70685   7.0  0.0       0.0        1.0  38.0     0.0                   0.0   \n",
       "70686  11.0  1.0       1.0        1.0  27.0     0.0                   0.0   \n",
       "70687   6.0  0.0       1.0        1.0  37.0     0.0                   0.0   \n",
       "70688  10.0  1.0       1.0        1.0  29.0     1.0                   1.0   \n",
       "70689  13.0  0.0       1.0        1.0  25.0     0.0                   1.0   \n",
       "70690  11.0  0.0       1.0        1.0  18.0     0.0                   0.0   \n",
       "70691   9.0  0.0       1.0        1.0  25.0     0.0                   1.0   \n",
       "\n",
       "       PhysActivity  Fruits  Veggies  HvyAlcoholConsump  GenHlth  MentHlth  \\\n",
       "70682           0.0     0.0      0.0                0.0      4.0       0.0   \n",
       "70683           0.0     0.0      1.0                0.0      2.0       0.0   \n",
       "70684           1.0     0.0      1.0                0.0      4.0      30.0   \n",
       "70685           1.0     0.0      1.0                0.0      4.0       0.0   \n",
       "70686           1.0     1.0      0.0                0.0      4.0       0.0   \n",
       "70687           0.0     0.0      1.0                0.0      4.0       0.0   \n",
       "70688           0.0     1.0      1.0                0.0      2.0       0.0   \n",
       "70689           0.0     1.0      0.0                0.0      5.0      15.0   \n",
       "70690           0.0     0.0      0.0                0.0      4.0       0.0   \n",
       "70691           1.0     1.0      0.0                0.0      2.0       0.0   \n",
       "\n",
       "       PhysHlth  DiffWalk  Stroke  HighBP  Diabetes  \n",
       "70682      30.0       1.0     0.0     1.0       1.0  \n",
       "70683       0.0       0.0     0.0     1.0       1.0  \n",
       "70684       5.0       0.0     0.0     1.0       1.0  \n",
       "70685       0.0       0.0     0.0     1.0       1.0  \n",
       "70686      30.0       0.0     0.0     0.0       1.0  \n",
       "70687       0.0       0.0     0.0     0.0       1.0  \n",
       "70688       0.0       1.0     0.0     0.0       1.0  \n",
       "70689       0.0       1.0     0.0     1.0       1.0  \n",
       "70690       0.0       1.0     0.0     1.0       1.0  \n",
       "70691       0.0       0.0     0.0     1.0       1.0  "
      ]
     },
     "execution_count": 3,
     "metadata": {},
     "output_type": "execute_result"
    }
   ],
   "source": [
    "df.tail(10)"
   ]
  },
  {
   "cell_type": "markdown",
   "metadata": {},
   "source": [
    "**Insight:** Data yang ditampilkan adalah data 10 teratas dan 10 terbawah yang mana jika dilihat dari data yang ditampilkan semua data bertipe numerik. Tetapi hal ini selanjutnya perlu di cek lagi dengan menampilkan data summary apakah terdapat data kategorik yang telah di-encoded"
   ]
  },
  {
   "cell_type": "markdown",
   "metadata": {},
   "source": [
    "### Menampilkan summary dari dataset yang akan digunakan untuk mengetahui detail kondisi data dari  dataset"
   ]
  },
  {
   "cell_type": "code",
   "execution_count": 4,
   "metadata": {},
   "outputs": [
    {
     "name": "stdout",
     "output_type": "stream",
     "text": [
      "<class 'pandas.core.frame.DataFrame'>\n",
      "RangeIndex: 70692 entries, 0 to 70691\n",
      "Data columns (total 18 columns):\n",
      " #   Column                Non-Null Count  Dtype  \n",
      "---  ------                --------------  -----  \n",
      " 0   Age                   70692 non-null  float64\n",
      " 1   Sex                   70692 non-null  float64\n",
      " 2   HighChol              70692 non-null  float64\n",
      " 3   CholCheck             70692 non-null  float64\n",
      " 4   BMI                   70692 non-null  float64\n",
      " 5   Smoker                70692 non-null  float64\n",
      " 6   HeartDiseaseorAttack  70692 non-null  float64\n",
      " 7   PhysActivity          70692 non-null  float64\n",
      " 8   Fruits                70692 non-null  float64\n",
      " 9   Veggies               70692 non-null  float64\n",
      " 10  HvyAlcoholConsump     70692 non-null  float64\n",
      " 11  GenHlth               70692 non-null  float64\n",
      " 12  MentHlth              70692 non-null  float64\n",
      " 13  PhysHlth              70692 non-null  float64\n",
      " 14  DiffWalk              70692 non-null  float64\n",
      " 15  Stroke                70692 non-null  float64\n",
      " 16  HighBP                70692 non-null  float64\n",
      " 17  Diabetes              70692 non-null  float64\n",
      "dtypes: float64(18)\n",
      "memory usage: 9.7 MB\n"
     ]
    }
   ],
   "source": [
    "# Menampilkan summary data\n",
    "df.info()"
   ]
  },
  {
   "cell_type": "markdown",
   "metadata": {},
   "source": [
    "**Insight:** Dari summary yang tersedia, menunjukkan bahwa semua kolom dari dataset yang digunakan semua bertipe data numerik. Jumlah data yang tersedia adalah 70692 data dengan 18 kolom yang tersedia."
   ]
  },
  {
   "cell_type": "markdown",
   "metadata": {},
   "source": [
    "### Dari dataset tersebut, dilakukan pengecekan apakah terdapat data duplikat"
   ]
  },
  {
   "cell_type": "code",
   "execution_count": 5,
   "metadata": {},
   "outputs": [
    {
     "name": "stdout",
     "output_type": "stream",
     "text": [
      "Jumlah data yang terduplikat: 6672\n"
     ]
    }
   ],
   "source": [
    "# cek duplikat data\n",
    "print('Jumlah data yang terduplikat:', df.duplicated().sum())"
   ]
  },
  {
   "cell_type": "markdown",
   "metadata": {},
   "source": [
    "**Insight:** Terdapat data yang terduplikat sebanyak 6672 data. Maka dari itu perlu dilakukan proses drop data yang terduplikat. "
   ]
  },
  {
   "cell_type": "markdown",
   "metadata": {},
   "source": [
    "### Drop duplikat data"
   ]
  },
  {
   "cell_type": "code",
   "execution_count": 6,
   "metadata": {},
   "outputs": [],
   "source": [
    "# remove data duplikat\n",
    "df.drop_duplicates(inplace = True)"
   ]
  },
  {
   "cell_type": "code",
   "execution_count": 7,
   "metadata": {},
   "outputs": [
    {
     "name": "stdout",
     "output_type": "stream",
     "text": [
      "Jumlah duplikat data setelah di remove: 0\n",
      "Jumlah data setelah remove duplikat: 64020\n"
     ]
    }
   ],
   "source": [
    "# cek duplikat data setelah di remove\n",
    "print('Jumlah duplikat data setelah di remove:', df.duplicated().sum())\n",
    "print('Jumlah data setelah remove duplikat:', len(df))"
   ]
  },
  {
   "cell_type": "markdown",
   "metadata": {},
   "source": [
    "**Insight:** Data yang terduplikat telah di remove sehingga jumlah data telah berkurang menjadi 64020 data."
   ]
  },
  {
   "cell_type": "markdown",
   "metadata": {},
   "source": [
    "### Setelah dilakukan pengecekan duplikat, selanjutnya dilakukan pengecekan missing value"
   ]
  },
  {
   "cell_type": "code",
   "execution_count": 8,
   "metadata": {},
   "outputs": [
    {
     "data": {
      "text/plain": [
       "Age                     0\n",
       "Sex                     0\n",
       "HighChol                0\n",
       "CholCheck               0\n",
       "BMI                     0\n",
       "Smoker                  0\n",
       "HeartDiseaseorAttack    0\n",
       "PhysActivity            0\n",
       "Fruits                  0\n",
       "Veggies                 0\n",
       "HvyAlcoholConsump       0\n",
       "GenHlth                 0\n",
       "MentHlth                0\n",
       "PhysHlth                0\n",
       "DiffWalk                0\n",
       "Stroke                  0\n",
       "HighBP                  0\n",
       "Diabetes                0\n",
       "dtype: int64"
      ]
     },
     "execution_count": 8,
     "metadata": {},
     "output_type": "execute_result"
    }
   ],
   "source": [
    "# cek missing value\n",
    "df.isnull().sum()"
   ]
  },
  {
   "cell_type": "markdown",
   "metadata": {},
   "source": [
    "**Insight:** Tidak terdapat missing value di dalam data, sehingga data siap masuk ke proses eksplorasi."
   ]
  },
  {
   "cell_type": "markdown",
   "metadata": {},
   "source": [
    "# Exploratory Data Analysis (EDA)"
   ]
  },
  {
   "cell_type": "code",
   "execution_count": 9,
   "metadata": {},
   "outputs": [
    {
     "data": {
      "image/png": "[encoded data removed]",
      "text/plain": [
       "<Figure size 800x400 with 1 Axes>"
      ]
     },
     "metadata": {},
     "output_type": "display_data"
    }
   ],
   "source": [
    "# mendefinisikan ukuran dari grafik\n",
    "plt.figure(figsize=(8, 4))\n",
    "# plot kolom diabetes dengan menggunakan countplot\n",
    "sns.countplot(x='Diabetes', data=df, color='magenta')\n",
    "# set judul\n",
    "plt.title('Diabetes Distribution')\n",
    "# set x label\n",
    "plt.xlabel('Diabetes')\n",
    "# set y label\n",
    "plt.ylabel('Frequency')\n",
    "# menampilkan grafik\n",
    "plt.show()"
   ]
  },
  {
   "cell_type": "markdown",
   "metadata": {},
   "source": [
    "**Insight:** Berdasarkan dustribusi dari data yang terdeteksi diabetes, terlihat bahwa distribusi cukup balance antara orang yang terkena diabetes, yaitu nomor 1, dan orang yang tidak terkena diabetes, yaitu nomor 0. Hal ini menunjukkan distribusi data yang baik karena diabetes merupakan target dari prediksi. Sehingga algoritma pada proses training akan secara balance mempelajari fitur-fitur yang memprediksi diabetes maupun tidak. "
   ]
  },
  {
   "cell_type": "code",
   "execution_count": 10,
   "metadata": {},
   "outputs": [
    {
     "data": {
      "text/plain": [
       "<Axes: title={'center': 'Correlation with Diabetes'}>"
      ]
     },
     "execution_count": 10,
     "metadata": {},
     "output_type": "execute_result"
    },
    {
     "data": {
      "image/png": "[encoded data removed]",
      "text/plain": [
       "<Figure size 800x400 with 1 Axes>"
      ]
     },
     "metadata": {},
     "output_type": "display_data"
    }
   ],
   "source": [
    "# Mendefinisikan ukuran gambar\n",
    "plt.figure(figsize=(8, 4))\n",
    "# plot korelasi dengan target\n",
    "df.drop('Diabetes', axis=1).corrwith(df.Diabetes).plot(kind='bar', grid=True, title=\"Correlation with Diabetes\",color=\"magenta\")"
   ]
  },
  {
   "cell_type": "markdown",
   "metadata": {},
   "source": [
    "**Insight:** Dilakukan plot correlation matrix untuk mengetahui fitur-fitur apa saja yang tidak berkorelasi dengan target. Dari semua fitur yang diambil, fitur 'Sex', 'Smoker', 'Fruits', 'Veggies', 'HvyAlcoholConsump','MentHlth','CholCheck', 'Stroke' memiliki nilai yang rendah, yaitu mendekati nilai nol untuk korelasi dengan diabetes. Hal ini menunjukkan bahwa fitur tersebut tidak berkorelasi dengan target dan perlu di drop datanya atau tidak digunakan pada proses sistem prediksi diabetes. Fitur lain yang berada di atas 0.1 atau di bawah -0.1 dianggap memiliki korelasi dengan target. "
   ]
  },
  {
   "cell_type": "code",
   "execution_count": 11,
   "metadata": {},
   "outputs": [
    {
     "data": {
      "text/plain": [
       "<seaborn.axisgrid.FacetGrid at 0x1d29cefb950>"
      ]
     },
     "execution_count": 11,
     "metadata": {},
     "output_type": "execute_result"
    },
    {
     "data": {
      "text/plain": [
       "<Figure size 800x400 with 0 Axes>"
      ]
     },
     "metadata": {},
     "output_type": "display_data"
    },
    {
     "data": {
      "image/png": "[encoded data removed]",
      "text/plain": [
       "<Figure size 1000x500 with 2 Axes>"
      ]
     },
     "metadata": {},
     "output_type": "display_data"
    }
   ],
   "source": [
    "# Set ukuran gambar\n",
    "plt.figure(figsize=(8,4))\n",
    "# plot menggunakan displot\n",
    "sns.displot(x='BMI', col='Diabetes' , data = df, kind=\"hist\" ,color = 'magenta')"
   ]
  },
  {
   "cell_type": "markdown",
   "metadata": {},
   "source": [
    "**Insight:** Dari gambar displot yang dihasilkan, terlihat jelas bahwa orang dengan BMI di atas 30 berada paling banyak di grafik orang dengan diabetes. sedangkan pada grafik orang yang tidak terkena diabetes lebih sedikit. Hal ini menunjukkan bahwa BMI berkorelasi dengan diabetes. Semakin tinggi BMI maka peluang untuk terkena diabetes nya juga akan semakin tinggi. Walaupun orang dengan BMI yang tinggi juga berada di kelompok orang yang tidak terkena diabetes."
   ]
  },
  {
   "cell_type": "code",
   "execution_count": 12,
   "metadata": {},
   "outputs": [
    {
     "data": {
      "image/png": "[encoded data removed]",
      "text/plain": [
       "<Figure size 800x400 with 1 Axes>"
      ]
     },
     "metadata": {},
     "output_type": "display_data"
    }
   ],
   "source": [
    "plt.figure(figsize=(8,4))\n",
    "sns.countplot(data=df, x='PhysActivity', hue='Diabetes', palette = ['pink','Magenta'])\n",
    "# set judul\n",
    "plt.title('Physical Activity on Diabetes')\n",
    "# set x label\n",
    "plt.xlabel('PhysActivity')\n",
    "# set y label\n",
    "plt.ylabel('Frequency')\n",
    "# menampilkan grafik\n",
    "plt.show()"
   ]
  },
  {
   "cell_type": "markdown",
   "metadata": {},
   "source": [
    "**Insight:** Pada grafik countplot yang diambil, jika dilihat dari physical activity yang dilakukan oleh setiap orang, orang yang tidak melakukan physical activity distribusinya lebih banyak yang memiliki penyakit diabetes dibandingkan dengan yang melakukan physical activity. Hal ini dapat terlihat bahwa diabetes memiliki hubungan dengan penyakit diabetes. Penyakit diabetes dapat dicegah dengan melakukan olahraga yang teratur. "
   ]
  },
  {
   "cell_type": "code",
   "execution_count": 13,
   "metadata": {},
   "outputs": [
    {
     "data": {
      "image/png": "[encoded data removed]",
      "text/plain": [
       "<Figure size 800x400 with 1 Axes>"
      ]
     },
     "metadata": {},
     "output_type": "display_data"
    }
   ],
   "source": [
    "# Set ukuran gambar\n",
    "plt.figure(figsize=(8,4))\n",
    "# Plot menggunakan countplot\n",
    "sns.countplot(data=df, x='HighBP', hue='Diabetes', palette = ['pink','Magenta'])\n",
    "# set judul\n",
    "plt.title('Blood Pressure on Diabetes')\n",
    "# set x label\n",
    "plt.xlabel('High Blood Pressure')\n",
    "# set y label\n",
    "plt.ylabel('Frequency')\n",
    "# menampilkan grafik\n",
    "plt.show()"
   ]
  },
  {
   "cell_type": "markdown",
   "metadata": {},
   "source": [
    "**Insight:** Jika dilihat dari countplot antara highBP dan diabetes, terlihat bahwa orang-orang yang memiliki high blood pressure itu cenderung lebih banyak memiliki penyakit diabetes dibandingkan orang yang tidak memiliki high blood pressure. Hal ini berarti orang-orang yang memiliki diabetes cenderung memiliki high blood pressure dibandingkan dengan orang yang tidak terkena diabetes."
   ]
  },
  {
   "cell_type": "markdown",
   "metadata": {},
   "source": [
    "# Feature Engineering"
   ]
  },
  {
   "cell_type": "markdown",
   "metadata": {},
   "source": [
    "### Mendefinisikan kolom numerik dan kategorik yang akan digunakan walaupun semua tipe data adalah numerik, tetapi banyak data yang merupakan data kategorik yang telah di encoded"
   ]
  },
  {
   "cell_type": "code",
   "execution_count": 14,
   "metadata": {},
   "outputs": [],
   "source": [
    "df_num= ['Age', 'BMI', 'PhysHlth']\n",
    "df_cat= ['HighChol','GenHlth',\n",
    "       'PhysActivity',\n",
    "       'HighBP']"
   ]
  },
  {
   "cell_type": "markdown",
   "metadata": {},
   "source": [
    "**Insight:** Tidak semua fitur digunakan karena setelah dilakukan plot korelasi, terdapat beberapa fitur yang tidak perlu digunakan karena tidak memiliki korelasi. Feature 'DiffWalk' dan 'HeartDiseaseorAttack' tidak dimasukkan karena dari hasil uji coba, ketika tiddak menggunakan kedua feature tersebut hasilnya sama atau tidak jauh berbeda ketika menggunakan kedua feature tersebut. Maka dari itu, dipertimbangkan untuk tidak menggunakan nya karena dapat mempercepat proses running model dan mengurangi beban komputasi."
   ]
  },
  {
   "cell_type": "code",
   "execution_count": 15,
   "metadata": {},
   "outputs": [],
   "source": [
    "df.drop(['Sex', 'CholCheck', 'Smoker', 'Fruits', 'Veggies', 'HvyAlcoholConsump', 'MentHlth','Stroke', 'HeartDiseaseorAttack', 'DiffWalk'], inplace= True, axis=1)"
   ]
  },
  {
   "cell_type": "markdown",
   "metadata": {},
   "source": [
    "**Insight:** Feature yang tidak digunakan pada data original akan di drop"
   ]
  },
  {
   "cell_type": "markdown",
   "metadata": {},
   "source": [
    "## Handling Cardinality"
   ]
  },
  {
   "cell_type": "markdown",
   "metadata": {},
   "source": [
    "### Sebelum data perlu diolah dalam proses FE, data perlu di cek cardinality nya terlebih dahulu khusus data kategorik, sehingga nantinya dapat ditentukan yang merupakan data kategorik dan menggunakan metode encoding yang sesuai dengan data "
   ]
  },
  {
   "cell_type": "code",
   "execution_count": 16,
   "metadata": {},
   "outputs": [
    {
     "data": {
      "text/html": [
       "<div>\n",
       "<style scoped>\n",
       "    .dataframe tbody tr th:only-of-type {\n",
       "        vertical-align: middle;\n",
       "    }\n",
       "\n",
       "    .dataframe tbody tr th {\n",
       "        vertical-align: top;\n",
       "    }\n",
       "\n",
       "    .dataframe thead th {\n",
       "        text-align: right;\n",
       "    }\n",
       "</style>\n",
       "<table border=\"1\" class=\"dataframe\">\n",
       "  <thead>\n",
       "    <tr style=\"text-align: right;\">\n",
       "      <th></th>\n",
       "      <th>Nama Kolom</th>\n",
       "      <th>Jumlah Nilai Unique</th>\n",
       "      <th>Nilai Unique</th>\n",
       "    </tr>\n",
       "  </thead>\n",
       "  <tbody>\n",
       "    <tr>\n",
       "      <th>0</th>\n",
       "      <td>HighChol</td>\n",
       "      <td>2</td>\n",
       "      <td>[0.0, 1.0]</td>\n",
       "    </tr>\n",
       "    <tr>\n",
       "      <th>1</th>\n",
       "      <td>GenHlth</td>\n",
       "      <td>5</td>\n",
       "      <td>[3.0, 1.0, 2.0, 4.0, 5.0]</td>\n",
       "    </tr>\n",
       "    <tr>\n",
       "      <th>2</th>\n",
       "      <td>PhysActivity</td>\n",
       "      <td>2</td>\n",
       "      <td>[1.0, 0.0]</td>\n",
       "    </tr>\n",
       "    <tr>\n",
       "      <th>3</th>\n",
       "      <td>HighBP</td>\n",
       "      <td>2</td>\n",
       "      <td>[1.0, 0.0]</td>\n",
       "    </tr>\n",
       "  </tbody>\n",
       "</table>\n",
       "</div>"
      ],
      "text/plain": [
       "     Nama Kolom  Jumlah Nilai Unique               Nilai Unique\n",
       "0      HighChol                    2                 [0.0, 1.0]\n",
       "1       GenHlth                    5  [3.0, 1.0, 2.0, 4.0, 5.0]\n",
       "2  PhysActivity                    2                 [1.0, 0.0]\n",
       "3        HighBP                    2                 [1.0, 0.0]"
      ]
     },
     "execution_count": 16,
     "metadata": {},
     "output_type": "execute_result"
    }
   ],
   "source": [
    "# mendefinisikan kolom yang masuk ke tipe data kategorik dan dijadikan sebagai list\n",
    "cat_cols = df_cat\n",
    "\n",
    "# membuat list kosong listItem\n",
    "listItem = []\n",
    "# membuat forloop untuk kolom yang berada di dalam cat_cols\n",
    "for col in cat_cols:\n",
    "  # memasukkan nama kolom dan jumlah nilai unique pada list\n",
    "  listItem.append([col, df[col].nunique(), df[col].unique()])\n",
    "\n",
    "# membuat dataframe dari listItem\n",
    "pd.DataFrame(columns=['Nama Kolom', 'Jumlah Nilai Unique', 'Nilai Unique'], data=listItem)"
   ]
  },
  {
   "cell_type": "markdown",
   "metadata": {},
   "source": [
    "**Insight:** Semua cardinality dari kolom kategorik yang akan dipakai tidak tinggi, sehingga data siap untuk digunakan. "
   ]
  },
  {
   "cell_type": "markdown",
   "metadata": {},
   "source": [
    "### Cek apakan data balance atau tidak"
   ]
  },
  {
   "cell_type": "code",
   "execution_count": 17,
   "metadata": {},
   "outputs": [
    {
     "data": {
      "text/plain": [
       "Diabetes\n",
       "1.0    33398\n",
       "0.0    30622\n",
       "Name: count, dtype: int64"
      ]
     },
     "execution_count": 17,
     "metadata": {},
     "output_type": "execute_result"
    }
   ],
   "source": [
    "df['Diabetes'].value_counts()"
   ]
  },
  {
   "cell_type": "markdown",
   "metadata": {},
   "source": [
    "**Insight:** Data balance, jadi tidak perlu di handle dengan SMOTE"
   ]
  },
  {
   "cell_type": "markdown",
   "metadata": {},
   "source": [
    "## *Splitting feature* X dan y"
   ]
  },
  {
   "cell_type": "code",
   "execution_count": 18,
   "metadata": {},
   "outputs": [],
   "source": [
    "#memisahkan antara fitur x dan y\n",
    "X = df.drop(['Diabetes'], axis = 1)\n",
    "y = df['Diabetes']"
   ]
  },
  {
   "cell_type": "markdown",
   "metadata": {},
   "source": [
    "**Insight:** Memisahkan antara feature X dan target y. Target y merupakan kolom Diabetes karena tujuan dari pemodelan adalah untuk memprediksi nilai tersebut. Kolom berhasil dipisah terlihat dari dimensi X dan y."
   ]
  },
  {
   "cell_type": "markdown",
   "metadata": {},
   "source": [
    "## Splitting train-set dan test-set"
   ]
  },
  {
   "cell_type": "code",
   "execution_count": 82,
   "metadata": {},
   "outputs": [
    {
     "name": "stdout",
     "output_type": "stream",
     "text": [
      "X Train Size:  (51216, 7)\n",
      "X Test Size:  (12804, 7)\n",
      "y Train Size:  (51216,)\n",
      "y Test Size:  (12804,)\n"
     ]
    }
   ],
   "source": [
    "# split data menjadi empat bagian, X_train, X_test, y_train, dan y_test\n",
    "X_train, X_test, y_train, y_test = train_test_split(X, y, test_size = 0.20, # komposisi data test sebesar 20% dari keseluruhan data\n",
    "                                                    stratify=y,\n",
    "                                                    random_state = 0)     # State kerandoman data ada pada state ke 0\n",
    "\n",
    "# Menampilkan ukuran dataframe dari X_train, X_test, y_train, dan y_test\n",
    "print('X Train Size: ', X_train.shape)\n",
    "print('X Test Size: ', X_test.shape)\n",
    "print('y Train Size: ', y_train.shape)\n",
    "print('y Test Size: ', y_test.shape)"
   ]
  },
  {
   "cell_type": "markdown",
   "metadata": {},
   "source": [
    "**Insight:** Jumlah data train sebanyak 51216 dan jumlah data test sebanyak 12804 dengan banyak nya kolom data train adalah sebanyak 7 kolom."
   ]
  },
  {
   "cell_type": "markdown",
   "metadata": {},
   "source": [
    "## Handling Outliers"
   ]
  },
  {
   "cell_type": "markdown",
   "metadata": {},
   "source": [
    "### Setelah handling cardinality dan dataset di split menjadi dataset train dan test, proses selanjutnya adalah handling outliers. Handling outliers ini dilakukan setelah split dataset bertujuan untuk mencegah adanya kebocoran data atau data leakage. Langkah pertama adalah menghitung nilai skewness untuk melihat apakah data terdistribusi normal atau terjadi skewed data. "
   ]
  },
  {
   "cell_type": "code",
   "execution_count": 83,
   "metadata": {},
   "outputs": [
    {
     "data": {
      "text/html": [
       "<div>\n",
       "<style scoped>\n",
       "    .dataframe tbody tr th:only-of-type {\n",
       "        vertical-align: middle;\n",
       "    }\n",
       "\n",
       "    .dataframe tbody tr th {\n",
       "        vertical-align: top;\n",
       "    }\n",
       "\n",
       "    .dataframe thead th {\n",
       "        text-align: right;\n",
       "    }\n",
       "</style>\n",
       "<table border=\"1\" class=\"dataframe\">\n",
       "  <thead>\n",
       "    <tr style=\"text-align: right;\">\n",
       "      <th></th>\n",
       "      <th>nama kolom</th>\n",
       "      <th>nilai skewness</th>\n",
       "    </tr>\n",
       "  </thead>\n",
       "  <tbody>\n",
       "    <tr>\n",
       "      <th>0</th>\n",
       "      <td>Age</td>\n",
       "      <td>-0.543344</td>\n",
       "    </tr>\n",
       "    <tr>\n",
       "      <th>1</th>\n",
       "      <td>BMI</td>\n",
       "      <td>1.658460</td>\n",
       "    </tr>\n",
       "    <tr>\n",
       "      <th>2</th>\n",
       "      <td>PhysHlth</td>\n",
       "      <td>1.513551</td>\n",
       "    </tr>\n",
       "  </tbody>\n",
       "</table>\n",
       "</div>"
      ],
      "text/plain": [
       "  nama kolom  nilai skewness\n",
       "0        Age       -0.543344\n",
       "1        BMI        1.658460\n",
       "2   PhysHlth        1.513551"
      ]
     },
     "execution_count": 83,
     "metadata": {},
     "output_type": "execute_result"
    }
   ],
   "source": [
    "# Mendefinisikan kolom numerik \n",
    "num_cols = df_num\n",
    "# Membuat list kosong \n",
    "listItem= []\n",
    "# Membuat forloop untuk kolom di dalam num_cols\n",
    "for col in num_cols:\n",
    "  # Memasukkan kolom yang merupakan kolom numerik dan menghitung nilai skew nya\n",
    "  listItem.append([col, X_train[col].skew()])\n",
    "\n",
    "# membuat dataframe dari nilai skew yang telah dihitung\n",
    "pd.DataFrame(columns=['nama kolom', 'nilai skewness'], data= listItem)"
   ]
  },
  {
   "cell_type": "markdown",
   "metadata": {},
   "source": [
    "**Insight:** fitur BMI dan PhysHlth mengalami extreme skew sehingga perlu di handle dengan metode capping IQR, sedangkan fitur Age tidak mengalami nilai Skew sehingga di handle dengan gaussian"
   ]
  },
  {
   "cell_type": "markdown",
   "metadata": {},
   "source": [
    "### Variabel yang memiliki outliers tinggi dilakukan metode capping dengan menggunakan IQR untuk mengeliminasi outliers yang ada di luar IQR. "
   ]
  },
  {
   "cell_type": "code",
   "execution_count": 84,
   "metadata": {},
   "outputs": [],
   "source": [
    "# capping data untuk data yang mengalami skewed\n",
    "winsoriser2 = Winsorizer(capping_method='iqr', # menggunakan metode IQR\n",
    "                            tail='both', # capping dilakukan pada outlier batas atas dan batas bawah\n",
    "                            fold=3, # menetapkan nilai fold\n",
    "                            #mendefinisikan kolom yang data nya terdistribusi secara skewed\n",
    "                            variables=[ 'BMI', 'PhysHlth'],\n",
    "                            missing_values='ignore')\n",
    "\n",
    "# mendefinisikan dataset X_train yang telah di capping  dengan melakukan fit_transform\n",
    "X_train = winsoriser2.fit_transform(X_train)\n",
    "# mendefinisikan dataset X_test yang telah di capping  dengan melakukan transform\n",
    "X_test = winsoriser2.transform(X_test)"
   ]
  },
  {
   "cell_type": "markdown",
   "metadata": {},
   "source": [
    "**Insight:** Handling outliers dengan data yang terdistribusi skewed menggunakan metode IQR dengan fold 3. Terlihat dari nilai skewness, fitur BMI dan PhysHlth mengalami extreme skew sehingga perlu dihandle dengan menggunakan fold 3."
   ]
  },
  {
   "cell_type": "markdown",
   "metadata": {},
   "source": [
    "### Variabel yang telah terdistribusi secara normal dilakukan teknik capping dengan menggunakan gaussian. "
   ]
  },
  {
   "cell_type": "code",
   "execution_count": 85,
   "metadata": {},
   "outputs": [],
   "source": [
    "# Capping data untuk data terdistribusi normal\n",
    "winsoriser1 = Winsorizer(capping_method='gaussian', # Metode capping yang digunakan adalah gaussian untuk data terdistribusi normal\n",
    "                            tail='both', # capping dilakukan pada outlier batas atas dan batas bawah\n",
    "                            fold=1.5,\n",
    "                            # mendefinisikan kolom yang data nya terdistribusi secara normal\n",
    "                            variables=['Age'],\n",
    "                            # ignore missing value\n",
    "                            missing_values='ignore')\n",
    "\n",
    "# mendefinisikan dataset X_train yang telah di capping  dengan melakukan fit_transform\n",
    "X_train = winsoriser1.fit_transform(X_train)\n",
    "# mendefinisikan dataset X_test yang telah di capping  dengan melakukan transform\n",
    "X_test = winsoriser1.transform(X_test)"
   ]
  },
  {
   "cell_type": "markdown",
   "metadata": {},
   "source": [
    "**Insight:** Metode yang digunakan adalah gaussian untuk kolom yang terdistribusi secara normal dengan menggunakan fold 1,5. Nilai fold menandakan seberapa jauh untuk menempatkan nilai pembatasan. Nilai 3 paling jauh, dan nilai 1 paling dekat. Dari hasil uji coba, menggunakan fold = 1.5 menghasilkan metriks evaluasi yang lebih baik."
   ]
  },
  {
   "cell_type": "markdown",
   "metadata": {},
   "source": [
    "## Handling Missing Value"
   ]
  },
  {
   "cell_type": "code",
   "execution_count": 23,
   "metadata": {},
   "outputs": [
    {
     "data": {
      "text/plain": [
       "Age             0\n",
       "HighChol        0\n",
       "BMI             0\n",
       "PhysActivity    0\n",
       "GenHlth         0\n",
       "PhysHlth        0\n",
       "HighBP          0\n",
       "dtype: int64"
      ]
     },
     "execution_count": 23,
     "metadata": {},
     "output_type": "execute_result"
    }
   ],
   "source": [
    "X_train.isnull().sum()"
   ]
  },
  {
   "cell_type": "markdown",
   "metadata": {},
   "source": [
    "**Insight:** Tidak terdapat missing value di dalam X_train"
   ]
  },
  {
   "cell_type": "code",
   "execution_count": 24,
   "metadata": {},
   "outputs": [
    {
     "data": {
      "text/plain": [
       "Age             0\n",
       "HighChol        0\n",
       "BMI             0\n",
       "PhysActivity    0\n",
       "GenHlth         0\n",
       "PhysHlth        0\n",
       "HighBP          0\n",
       "dtype: int64"
      ]
     },
     "execution_count": 24,
     "metadata": {},
     "output_type": "execute_result"
    }
   ],
   "source": [
    "X_test.isnull().sum()"
   ]
  },
  {
   "cell_type": "markdown",
   "metadata": {},
   "source": [
    "**Insight:** Tidak terdapat missing value di dalam X_test"
   ]
  },
  {
   "cell_type": "code",
   "execution_count": 25,
   "metadata": {},
   "outputs": [
    {
     "data": {
      "text/plain": [
       "0"
      ]
     },
     "execution_count": 25,
     "metadata": {},
     "output_type": "execute_result"
    }
   ],
   "source": [
    "y_train.isnull().sum()"
   ]
  },
  {
   "cell_type": "markdown",
   "metadata": {},
   "source": [
    "**Insight:** Tidak terdapat missing value di dalam y_train"
   ]
  },
  {
   "cell_type": "code",
   "execution_count": 26,
   "metadata": {},
   "outputs": [
    {
     "data": {
      "text/plain": [
       "0"
      ]
     },
     "execution_count": 26,
     "metadata": {},
     "output_type": "execute_result"
    }
   ],
   "source": [
    "y_test.isnull().sum()"
   ]
  },
  {
   "cell_type": "markdown",
   "metadata": {},
   "source": [
    "**Insight:** Tidak terdapat missing value di dalam y_test"
   ]
  },
  {
   "cell_type": "markdown",
   "metadata": {},
   "source": [
    "## Feature Selection"
   ]
  },
  {
   "cell_type": "code",
   "execution_count": 86,
   "metadata": {},
   "outputs": [
    {
     "name": "stdout",
     "output_type": "stream",
     "text": [
      "Numeric Columns:  ['Age', 'BMI', 'PhysHlth']\n",
      "Categorical Columns:  ['HighChol', 'GenHlth', 'PhysActivity', 'HighBP']\n"
     ]
    }
   ],
   "source": [
    "# Mendefinisikan kolom data numerik dan data kategorik \n",
    "num_columns = df_num\n",
    "cat_columns = df_cat\n",
    "# menampilkan list kolom numerik dan kolom kategorik\n",
    "print('Numeric Columns: ', num_columns)\n",
    "print('Categorical Columns: ', cat_columns)"
   ]
  },
  {
   "cell_type": "markdown",
   "metadata": {},
   "source": [
    "**Insight:** Kolom numerik dan kategorik yang didefinisikan telah didefinisikan sebelumnya menggunakan df_num dan df_cat. Dari data keseluruhan df, tidak semua fitur digunakan karena beberapa fitur tidak berkorelasi dengan target. Data numerik memiliki jumlah feature sebanyak 3 feature sedangkan data kategorik memiliki jumlah feature sebanyak 4 feature. "
   ]
  },
  {
   "cell_type": "code",
   "execution_count": 87,
   "metadata": {},
   "outputs": [
    {
     "data": {
      "text/html": [
       "<div>\n",
       "<style scoped>\n",
       "    .dataframe tbody tr th:only-of-type {\n",
       "        vertical-align: middle;\n",
       "    }\n",
       "\n",
       "    .dataframe tbody tr th {\n",
       "        vertical-align: top;\n",
       "    }\n",
       "\n",
       "    .dataframe thead th {\n",
       "        text-align: right;\n",
       "    }\n",
       "</style>\n",
       "<table border=\"1\" class=\"dataframe\">\n",
       "  <thead>\n",
       "    <tr style=\"text-align: right;\">\n",
       "      <th></th>\n",
       "      <th>Age</th>\n",
       "      <th>BMI</th>\n",
       "      <th>PhysHlth</th>\n",
       "    </tr>\n",
       "  </thead>\n",
       "  <tbody>\n",
       "    <tr>\n",
       "      <th>27872</th>\n",
       "      <td>9.000000</td>\n",
       "      <td>22.0</td>\n",
       "      <td>0.0</td>\n",
       "    </tr>\n",
       "    <tr>\n",
       "      <th>63893</th>\n",
       "      <td>12.901597</td>\n",
       "      <td>27.0</td>\n",
       "      <td>0.0</td>\n",
       "    </tr>\n",
       "    <tr>\n",
       "      <th>2699</th>\n",
       "      <td>12.000000</td>\n",
       "      <td>27.0</td>\n",
       "      <td>0.0</td>\n",
       "    </tr>\n",
       "  </tbody>\n",
       "</table>\n",
       "</div>"
      ],
      "text/plain": [
       "             Age   BMI  PhysHlth\n",
       "27872   9.000000  22.0       0.0\n",
       "63893  12.901597  27.0       0.0\n",
       "2699   12.000000  27.0       0.0"
      ]
     },
     "execution_count": 87,
     "metadata": {},
     "output_type": "execute_result"
    }
   ],
   "source": [
    "# Split kolom numerik dan kolom kategorik pada dataset train dan test\n",
    "X_train_num = X_train[num_columns]\n",
    "X_train_cat = X_train[cat_columns]\n",
    "\n",
    "X_test_num = X_test[num_columns]\n",
    "X_test_cat = X_test[cat_columns]\n",
    "\n",
    "# menampilkan dataset train numerik\n",
    "X_train_num.head(3)"
   ]
  },
  {
   "cell_type": "markdown",
   "metadata": {},
   "source": [
    "**Insight:** data train dan data test pada data numerik dan kategorik telah terpisah yang kemudian akan dilakukan uji korelasi untuk mengetahui feature-feature yang berkorelasi dengan target. "
   ]
  },
  {
   "cell_type": "code",
   "execution_count": 88,
   "metadata": {},
   "outputs": [
    {
     "data": {
      "text/html": [
       "<div>\n",
       "<style scoped>\n",
       "    .dataframe tbody tr th:only-of-type {\n",
       "        vertical-align: middle;\n",
       "    }\n",
       "\n",
       "    .dataframe tbody tr th {\n",
       "        vertical-align: top;\n",
       "    }\n",
       "\n",
       "    .dataframe thead th {\n",
       "        text-align: right;\n",
       "    }\n",
       "</style>\n",
       "<table border=\"1\" class=\"dataframe\">\n",
       "  <thead>\n",
       "    <tr style=\"text-align: right;\">\n",
       "      <th></th>\n",
       "      <th>nama kolom</th>\n",
       "      <th>hasil</th>\n",
       "    </tr>\n",
       "  </thead>\n",
       "  <tbody>\n",
       "    <tr>\n",
       "      <th>0</th>\n",
       "      <td>HighChol</td>\n",
       "      <td>Terdapat Korelasi</td>\n",
       "    </tr>\n",
       "    <tr>\n",
       "      <th>1</th>\n",
       "      <td>GenHlth</td>\n",
       "      <td>Terdapat Korelasi</td>\n",
       "    </tr>\n",
       "    <tr>\n",
       "      <th>2</th>\n",
       "      <td>PhysActivity</td>\n",
       "      <td>Terdapat Korelasi</td>\n",
       "    </tr>\n",
       "    <tr>\n",
       "      <th>3</th>\n",
       "      <td>HighBP</td>\n",
       "      <td>Terdapat Korelasi</td>\n",
       "    </tr>\n",
       "  </tbody>\n",
       "</table>\n",
       "</div>"
      ],
      "text/plain": [
       "     nama kolom              hasil\n",
       "0      HighChol  Terdapat Korelasi\n",
       "1       GenHlth  Terdapat Korelasi\n",
       "2  PhysActivity  Terdapat Korelasi\n",
       "3        HighBP  Terdapat Korelasi"
      ]
     },
     "execution_count": 88,
     "metadata": {},
     "output_type": "execute_result"
    }
   ],
   "source": [
    "# Mendefinisikan list kosong untuk p_values, interpretasi, dan cols\n",
    "p_values = []\n",
    "interpretasi = []\n",
    "cols = []\n",
    "\n",
    "# melakukan forloop untuk kolom yang terdapat didalam dataset kategorik\n",
    "for col in X_train_cat.columns:\n",
    "  # melakukan uji korelasi dengan menggunakan kendaltau pada setiap kolom dataset kategorik\n",
    "  corr_coef, p_value = kendalltau(X_train_cat[col], y_train)\n",
    "\n",
    "  #input p_values ke dalam list p_values\n",
    "  p_values.append(p_value)\n",
    "  # input nama kolom ke list cols\n",
    "  cols.append(col)\n",
    "\n",
    "  # dilakukan pengecekan, jika p_value di bawah nilai 0.05, maka terdapat korelasi\n",
    "  if p_value < 0.05:\n",
    "    interpretasi.append('Terdapat Korelasi')\n",
    "  # jika p_value berada di atas nilai 0.05, maka tidak terdapat korelasi\n",
    "  else :\n",
    "    interpretasi.append('Tidak terdapat korelasi')\n",
    "\n",
    "# membuat dataframe untuk nama kolom dan hasil dari interpretasi\n",
    "pd.DataFrame({'nama kolom':cols,\n",
    "              'hasil': interpretasi})"
   ]
  },
  {
   "cell_type": "markdown",
   "metadata": {},
   "source": [
    "**Insight** Hasil uji korelasi menunjukkan bahwa semua fitur yang ada di kolom kategorik memiliki korelasi dengan target, sehingga tidak ada fitur yang perlu di drop. "
   ]
  },
  {
   "cell_type": "code",
   "execution_count": 89,
   "metadata": {},
   "outputs": [
    {
     "data": {
      "text/html": [
       "<div>\n",
       "<style scoped>\n",
       "    .dataframe tbody tr th:only-of-type {\n",
       "        vertical-align: middle;\n",
       "    }\n",
       "\n",
       "    .dataframe tbody tr th {\n",
       "        vertical-align: top;\n",
       "    }\n",
       "\n",
       "    .dataframe thead th {\n",
       "        text-align: right;\n",
       "    }\n",
       "</style>\n",
       "<table border=\"1\" class=\"dataframe\">\n",
       "  <thead>\n",
       "    <tr style=\"text-align: right;\">\n",
       "      <th></th>\n",
       "      <th>nama kolom</th>\n",
       "      <th>hasil</th>\n",
       "    </tr>\n",
       "  </thead>\n",
       "  <tbody>\n",
       "    <tr>\n",
       "      <th>0</th>\n",
       "      <td>Age</td>\n",
       "      <td>Terdapat korelasi</td>\n",
       "    </tr>\n",
       "    <tr>\n",
       "      <th>1</th>\n",
       "      <td>BMI</td>\n",
       "      <td>Terdapat korelasi</td>\n",
       "    </tr>\n",
       "    <tr>\n",
       "      <th>2</th>\n",
       "      <td>PhysHlth</td>\n",
       "      <td>Terdapat korelasi</td>\n",
       "    </tr>\n",
       "  </tbody>\n",
       "</table>\n",
       "</div>"
      ],
      "text/plain": [
       "  nama kolom              hasil\n",
       "0        Age  Terdapat korelasi\n",
       "1        BMI  Terdapat korelasi\n",
       "2   PhysHlth  Terdapat korelasi"
      ]
     },
     "execution_count": 89,
     "metadata": {},
     "output_type": "execute_result"
    }
   ],
   "source": [
    "# Mendefinisikan list kosong untuk p_values, interpretasi, dan cols\n",
    "p_values = []\n",
    "interpretasi = []\n",
    "cols = []\n",
    "\n",
    "# forloop untuk kolom yang berada di dataset numerik\n",
    "for col in X_train_num.columns:\n",
    "  # melakukan perhitungan uji korelasi dengan menggunakan pearsonr untuk data numerik\n",
    "  corr_coef, p_value = pearsonr(X_train_num[col], y_train)\n",
    "\n",
    "  # p_value yang didapat kemudian dimasukkan ke dalam list p_value\n",
    "  p_values.append(p_value)\n",
    "  # memasukkan nama dari setiap kolom numerik\n",
    "  cols.append(col)\n",
    "\n",
    "  # cek jika p_value di bawah 0.05, maka terdapat korelasi\n",
    "  if p_value < 0.05:\n",
    "    interpretasi.append('Terdapat korelasi')\n",
    "  # jika p_value di atas nilai 0.05, maka tidak terdapat korelasi\n",
    "  else :\n",
    "    interpretasi.append('Tidak terdapat korelasi')\n",
    "\n",
    "# membuat dataframe untuk kolom han hasil interpretasi\n",
    "pd.DataFrame({'nama kolom':cols,\n",
    "              'hasil': interpretasi})"
   ]
  },
  {
   "cell_type": "markdown",
   "metadata": {},
   "source": [
    "**Insight** Hasil uji korelasi menunjukkan bahwa semua fitur yang ada di kolom numerik memiliki korelasi dengan target, sehingga tidak ada fitur yang perlu di drop. "
   ]
  },
  {
   "cell_type": "markdown",
   "metadata": {},
   "source": [
    "## Concate kolom numerik dan kategorik"
   ]
  },
  {
   "cell_type": "code",
   "execution_count": 90,
   "metadata": {},
   "outputs": [
    {
     "data": {
      "text/plain": [
       "array([[ 9.        , 22.        ,  0.        , ...,  2.        ,\n",
       "         1.        ,  0.        ],\n",
       "       [12.90159714, 27.        ,  0.        , ...,  4.        ,\n",
       "         1.        ,  1.        ],\n",
       "       [12.        , 27.        ,  0.        , ...,  3.        ,\n",
       "         1.        ,  0.        ],\n",
       "       ...,\n",
       "       [ 9.        , 38.        ,  3.        , ...,  2.        ,\n",
       "         0.        ,  1.        ],\n",
       "       [ 8.        , 23.        ,  1.        , ...,  1.        ,\n",
       "         1.        ,  0.        ],\n",
       "       [ 9.        , 30.        ,  0.        , ...,  4.        ,\n",
       "         0.        ,  0.        ]])"
      ]
     },
     "execution_count": 90,
     "metadata": {},
     "output_type": "execute_result"
    }
   ],
   "source": [
    "#Concate kolom train dan test\n",
    "X_train = np.concatenate([X_train_num, X_train_cat], axis = 1)\n",
    "X_test = np.concatenate([X_test_num, X_test_cat], axis = 1)\n",
    "\n",
    "# menunjukkan dataset array final yang telah di concate\n",
    "X_train"
   ]
  },
  {
   "cell_type": "markdown",
   "metadata": {},
   "source": [
    "**Insight:** Kolom numerik dan kategorik yang telah di concate masih dalam bentuk array, maka dari itu perlu dirubah menjadi dataframe "
   ]
  },
  {
   "cell_type": "code",
   "execution_count": 91,
   "metadata": {},
   "outputs": [
    {
     "data": {
      "text/plain": [
       "(51216, 7)"
      ]
     },
     "execution_count": 91,
     "metadata": {},
     "output_type": "execute_result"
    }
   ],
   "source": [
    "# Cek dimensi dataset final\n",
    "X_train.shape"
   ]
  },
  {
   "cell_type": "markdown",
   "metadata": {},
   "source": [
    "**Insight:** Setelah dataset numerik dan kategorik digabung, jumlah feature final pada dataset berjumlah 7 kolom."
   ]
  },
  {
   "cell_type": "code",
   "execution_count": 92,
   "metadata": {},
   "outputs": [
    {
     "data": {
      "text/html": [
       "<div>\n",
       "<style scoped>\n",
       "    .dataframe tbody tr th:only-of-type {\n",
       "        vertical-align: middle;\n",
       "    }\n",
       "\n",
       "    .dataframe tbody tr th {\n",
       "        vertical-align: top;\n",
       "    }\n",
       "\n",
       "    .dataframe thead th {\n",
       "        text-align: right;\n",
       "    }\n",
       "</style>\n",
       "<table border=\"1\" class=\"dataframe\">\n",
       "  <thead>\n",
       "    <tr style=\"text-align: right;\">\n",
       "      <th></th>\n",
       "      <th>Age</th>\n",
       "      <th>BMI</th>\n",
       "      <th>PhysHlth</th>\n",
       "      <th>HighChol</th>\n",
       "      <th>GenHlth</th>\n",
       "      <th>PhysActivity</th>\n",
       "      <th>HighBP</th>\n",
       "    </tr>\n",
       "  </thead>\n",
       "  <tbody>\n",
       "    <tr>\n",
       "      <th>0</th>\n",
       "      <td>9.000000</td>\n",
       "      <td>22.0</td>\n",
       "      <td>0.0</td>\n",
       "      <td>0.0</td>\n",
       "      <td>2.0</td>\n",
       "      <td>1.0</td>\n",
       "      <td>0.0</td>\n",
       "    </tr>\n",
       "    <tr>\n",
       "      <th>1</th>\n",
       "      <td>12.901597</td>\n",
       "      <td>27.0</td>\n",
       "      <td>0.0</td>\n",
       "      <td>0.0</td>\n",
       "      <td>4.0</td>\n",
       "      <td>1.0</td>\n",
       "      <td>1.0</td>\n",
       "    </tr>\n",
       "    <tr>\n",
       "      <th>2</th>\n",
       "      <td>12.000000</td>\n",
       "      <td>27.0</td>\n",
       "      <td>0.0</td>\n",
       "      <td>1.0</td>\n",
       "      <td>3.0</td>\n",
       "      <td>1.0</td>\n",
       "      <td>0.0</td>\n",
       "    </tr>\n",
       "  </tbody>\n",
       "</table>\n",
       "</div>"
      ],
      "text/plain": [
       "         Age   BMI  PhysHlth  HighChol  GenHlth  PhysActivity  HighBP\n",
       "0   9.000000  22.0       0.0       0.0      2.0           1.0     0.0\n",
       "1  12.901597  27.0       0.0       0.0      4.0           1.0     1.0\n",
       "2  12.000000  27.0       0.0       1.0      3.0           1.0     0.0"
      ]
     },
     "execution_count": 92,
     "metadata": {},
     "output_type": "execute_result"
    }
   ],
   "source": [
    "# Membuat dataframe untuk X_train\n",
    "X_train = pd.DataFrame(X_train, columns=np.concatenate([X_train_num.columns, X_train_cat.columns]))\n",
    "# Menampilkan dataframe X_train\n",
    "X_train.head(3)"
   ]
  },
  {
   "cell_type": "code",
   "execution_count": 93,
   "metadata": {},
   "outputs": [
    {
     "data": {
      "text/html": [
       "<div>\n",
       "<style scoped>\n",
       "    .dataframe tbody tr th:only-of-type {\n",
       "        vertical-align: middle;\n",
       "    }\n",
       "\n",
       "    .dataframe tbody tr th {\n",
       "        vertical-align: top;\n",
       "    }\n",
       "\n",
       "    .dataframe thead th {\n",
       "        text-align: right;\n",
       "    }\n",
       "</style>\n",
       "<table border=\"1\" class=\"dataframe\">\n",
       "  <thead>\n",
       "    <tr style=\"text-align: right;\">\n",
       "      <th></th>\n",
       "      <th>Age</th>\n",
       "      <th>BMI</th>\n",
       "      <th>PhysHlth</th>\n",
       "      <th>HighChol</th>\n",
       "      <th>GenHlth</th>\n",
       "      <th>PhysActivity</th>\n",
       "      <th>HighBP</th>\n",
       "    </tr>\n",
       "  </thead>\n",
       "  <tbody>\n",
       "    <tr>\n",
       "      <th>0</th>\n",
       "      <td>5.0</td>\n",
       "      <td>47.0</td>\n",
       "      <td>28.0</td>\n",
       "      <td>0.0</td>\n",
       "      <td>3.0</td>\n",
       "      <td>0.0</td>\n",
       "      <td>1.0</td>\n",
       "    </tr>\n",
       "    <tr>\n",
       "      <th>1</th>\n",
       "      <td>8.0</td>\n",
       "      <td>27.0</td>\n",
       "      <td>0.0</td>\n",
       "      <td>0.0</td>\n",
       "      <td>1.0</td>\n",
       "      <td>1.0</td>\n",
       "      <td>0.0</td>\n",
       "    </tr>\n",
       "    <tr>\n",
       "      <th>2</th>\n",
       "      <td>11.0</td>\n",
       "      <td>24.0</td>\n",
       "      <td>0.0</td>\n",
       "      <td>0.0</td>\n",
       "      <td>3.0</td>\n",
       "      <td>0.0</td>\n",
       "      <td>1.0</td>\n",
       "    </tr>\n",
       "  </tbody>\n",
       "</table>\n",
       "</div>"
      ],
      "text/plain": [
       "    Age   BMI  PhysHlth  HighChol  GenHlth  PhysActivity  HighBP\n",
       "0   5.0  47.0      28.0       0.0      3.0           0.0     1.0\n",
       "1   8.0  27.0       0.0       0.0      1.0           1.0     0.0\n",
       "2  11.0  24.0       0.0       0.0      3.0           0.0     1.0"
      ]
     },
     "execution_count": 93,
     "metadata": {},
     "output_type": "execute_result"
    }
   ],
   "source": [
    "# Membuat dataframe untuk X_test\n",
    "X_test = pd.DataFrame(X_test, columns=np.concatenate([X_test_num.columns, X_test_cat.columns]))\n",
    "# Menampilkan dataframe X_test\n",
    "X_test.head(3)"
   ]
  },
  {
   "cell_type": "markdown",
   "metadata": {},
   "source": [
    "**Insight:** Dataset test dan train yang telah di concate perlu untuk di tranformasi menjadi pandas dataframe untuk masuk ke proses modelling, karena pada proses modelling tidak bisa datanya dalam bentuk array. "
   ]
  },
  {
   "cell_type": "markdown",
   "metadata": {},
   "source": [
    "# Modelling"
   ]
  },
  {
   "cell_type": "markdown",
   "metadata": {},
   "source": [
    "### Model yang digunakan adalah SVM, KNN, Decision Tree, Random Forest, dan XGBoost. "
   ]
  },
  {
   "cell_type": "code",
   "execution_count": 94,
   "metadata": {},
   "outputs": [],
   "source": [
    "# Membuat kolom trandormer untuk preprocessing\n",
    "transformer = ColumnTransformer([\n",
    "    ('scaler', MinMaxScaler(), num_columns),\n",
    "    ('encoding', OrdinalEncoder(), cat_columns)\n",
    "    ])\n",
    "\n",
    "\n",
    "#Membuat pipeline untuk SVM\n",
    "pipe_svm = Pipeline([\n",
    "('transformer', transformer),\n",
    "('classifier', SVC())\n",
    "])\n",
    "\n",
    "#Membuat pipeline untuk KNN\n",
    "pipe_knn = Pipeline([\n",
    "('transformer', transformer),\n",
    "('classifier', KNeighborsClassifier())\n",
    "])\n",
    "\n",
    "#Membuat pipeline untuk Decision Tree\n",
    "pipe_dt = Pipeline([\n",
    "('transformer', transformer),\n",
    "('classifier', DecisionTreeClassifier())\n",
    "])\n",
    "\n",
    "#Membuat pipeline untuk Random Forest   \n",
    "pipe_rf = Pipeline([\n",
    "('transformer', transformer),\n",
    "('classifier', RandomForestClassifier())\n",
    "])\n",
    "\n",
    "#Membuat pipeline untuk XGBoost\n",
    "pipe_xgb = Pipeline([\n",
    "('transformer', transformer),\n",
    "('classifier', XGBClassifier())\n",
    "])"
   ]
  },
  {
   "cell_type": "markdown",
   "metadata": {},
   "source": [
    "**Insight:** Pada bagian modelling, terdapat proses transformer yang mana terdapat proses scalling dan encoding. Penggunaan MinMaxScaler ini dikarenakan data sebagian besar mengalami skewed distribution. Sedangkan metode encoding yang digunakan adalah ordinal encoding dikarenakan data kategorik memiliki level. Digunakan metode pipeline dalam modelling dengan tujuan untuk mencegah data leakage dan memuat kodingan lebih sederhana."
   ]
  },
  {
   "cell_type": "markdown",
   "metadata": {},
   "source": [
    "**Karakteristik Umum dari setiap model:**\n",
    "- `SVM` = kerja dari model ini untuk mencari decision boundaries yang mana goals nya adalah mencari hyperplan atau garis pemisah. \n",
    "- `KNN` = Non-parametric algorithm (tidak butuh asumsi). Hanya butuh informasi jarak/titik-titik dari persebaran data. Lebih flexible dari pada algoritma hipotesis, jadi untuk persebaran data yang tidak normal masih baik. \n",
    "- `Decision Tree` = Decision tree dapat berupa regresi dan klasifikasi, tetapi regresi menghasilkan hasil yang kurang baik. Algoritma ini juga non parametric model, jadi tidak perlu ada syarat awal pada data. Decision tree di scikit-learn memiliki algoritma CART (Classification and Regression Trees Algorithm) yang mana hanya memiliki dua cabang, true or false. Jadi kalau mau ada cabang lagi, berarti bikin lagi. Pendekatannya top-down (yang paling pengaruh ke bawah), bisa digunakan pada data yg non linear dan robust dari outliers. \n",
    "- `Random Forest` = Cara kerja algoritma random forest adalah dengan membuat setiap model secara independen dan paralel. Lalu dilakukan training model pada subset yang berbeda pada data pelatihan dan hasil prediksinya merupakan kalkulasi rata-rata untuk regresi dan voting untuk klasifikasi. \n",
    "- `XGBoost` = XGBoost menggunakan teknik regularisasi dan shrinkage (learning rate) untuk mencegah overfitting dan memberikan kontrol yang lebih besar terhadap kompleksitas model.\n",
    "\n"
   ]
  },
  {
   "cell_type": "markdown",
   "metadata": {},
   "source": [
    "# Baseline Model Evaluation"
   ]
  },
  {
   "cell_type": "markdown",
   "metadata": {},
   "source": [
    "## KNN"
   ]
  },
  {
   "cell_type": "markdown",
   "metadata": {},
   "source": [
    "### Fit, predict model, dan menghitung nilai akurasi dari training dan testing model"
   ]
  },
  {
   "cell_type": "code",
   "execution_count": 95,
   "metadata": {},
   "outputs": [
    {
     "name": "stdout",
     "output_type": "stream",
     "text": [
      "Training Score:  0.7696\n",
      "Testing Score:  0.6947\n"
     ]
    }
   ],
   "source": [
    "# fit model pada train set\n",
    "pipe_knn.fit(X_train, y_train)\n",
    "# predict model pada test set\n",
    "y_knn_pred = pipe_knn.predict(X_test)\n",
    "# Menampilkan nilai akurasi training dan testing\n",
    "print('Training Score: ',round(pipe_knn.score(X_train, y_train),4))\n",
    "print('Testing Score: ', round(pipe_knn.score(X_test, y_test),4))"
   ]
  },
  {
   "cell_type": "markdown",
   "metadata": {},
   "source": [
    "**Insight:** Hasil akurasi training yang di dapatkan adalah 76% dengan akurasi testing sebesar 69%. Hasil yang didapatkan tidak terlalu bagus karena hasilnya mengindikasikan adanya overfitting. Hal ini diduga dikarenakan data split yang dilakukan sebesar 80% untuk data training dan 20% untuk data testing sehingga model memang lebih banyak belajar dari data training tetapi tidak cukup baik prediksi nya dalam melakukan testing. Nilai kerandoman juga dapat memengaruhi dari performa akurasi training dan testing karena data diacak secara random. Untuk meningkatkan performa akurasi dari model knn ini dapat di lakukan dengan kembali melakukan feature selection, mencoba dengan nilai kerandoman yang berbeda, melakukan hyperparameter tuning, dan mencoba pembagian data menjadi 75% data training dan 25% data testing sehingga dapat meminimalkan peluang terjadinya overfitting. "
   ]
  },
  {
   "cell_type": "code",
   "execution_count": 96,
   "metadata": {},
   "outputs": [
    {
     "name": "stdout",
     "output_type": "stream",
     "text": [
      "              precision    recall  f1-score   support\n",
      "\n",
      " No Diabetes       0.69      0.65      0.67      6124\n",
      "    Diabetes       0.69      0.74      0.72      6680\n",
      "\n",
      "    accuracy                           0.69     12804\n",
      "   macro avg       0.69      0.69      0.69     12804\n",
      "weighted avg       0.69      0.69      0.69     12804\n",
      "\n"
     ]
    }
   ],
   "source": [
    "# Mendefinisikan target\n",
    "target = ['No Diabetes', 'Diabetes']\n",
    "# menampilkan classification report\n",
    "print(classification_report(y_test, y_knn_pred, target_names = target))"
   ]
  },
  {
   "cell_type": "markdown",
   "metadata": {},
   "source": [
    "**Insight:** Jika dilihat dari hasil precision, recall, dan f1-score, Hasil prediksi dari kedua kelas cukup seimbang dengan nilai yang dihasilkan. Ini berarti model dapat mendeteksi kedua kelas secara seimbang dilihat dari bagaimana model mendeteksi secara benar memprediksi kelas positif yang dilihat dari presisi, seberapa sering model dapat memprediksi positive instances (True Positive) dari semua nilai positif nya atau nilai aktual nya yang dilihat dari Recall, dan rata-rata harmonik dari precision dan recall. Karena prediksi yang dilakukan adalah prediksi apakah seseorang terkena diabetes atau tidak, jadi yang lebih diperhatikan adalah nilai dari recall nya. nilai recall untuk kelas No diabetes adalah 65% dan kelas Diabetes adalah 74%. Hal ini menunjukkan bahwa model lebih baik dalam mendeteksi orang dengan Diabetes dibandingkan dengan orang yang tidak terkena diabetes. "
   ]
  },
  {
   "cell_type": "code",
   "execution_count": 38,
   "metadata": {},
   "outputs": [
    {
     "name": "stdout",
     "output_type": "stream",
     "text": [
      "F1 Score - All - Cross Validation  :  [0.71986528 0.71520436 0.7145597 ]\n",
      "F1 Score - Mean - Cross Validation :  0.7165431149532827\n",
      "F1 Score - Std - Cross Validation  :  0.0023638242645546564\n",
      "F1 Score - Range of Test-Set       :  0.7141792906887281 - 0.7189069392178373\n"
     ]
    }
   ],
   "source": [
    "# menggunakan StratifiedKFold untuk cross-validation\n",
    "stratified_kfold = StratifiedKFold(n_splits=3, shuffle=True, random_state=42)\n",
    "\n",
    "# mendefinisikan F1 scorer untuk cross validation\n",
    "f1_scorer = make_scorer(f1_score)\n",
    "\n",
    "# menghitung cross validation\n",
    "f1_train_cross_val = cross_val_score(pipe_knn, X_train, y_train, cv=stratified_kfold, scoring=f1_scorer)\n",
    "\n",
    "# menampilkan hasil\n",
    "print('F1 Score - All - Cross Validation  : ', f1_train_cross_val)\n",
    "print('F1 Score - Mean - Cross Validation : ', f1_train_cross_val.mean())\n",
    "print('F1 Score - Std - Cross Validation  : ', f1_train_cross_val.std())\n",
    "print('F1 Score - Range of Test-Set       : ', (f1_train_cross_val.mean() - f1_train_cross_val.std()), '-', (f1_train_cross_val.mean() + f1_train_cross_val.std()))"
   ]
  },
  {
   "cell_type": "markdown",
   "metadata": {},
   "source": [
    "**Insight:** Cross validation yang digunakan adalah StratifiedKFold karena menghasilkan nilai yang lebih baik dan juga dikarenakan terdapat beberapa variable yang multicolinear. Hasil dari cross validation menghasilkan nilai yang baik dan konsisten di angka 71%. Hal ini menunjukkan model cukup reliable dan dapat dipercaya pada proses prediksinya. Nilai standar deviasinya juga kecil yaitu diangka 0.002. Semakin standar deviasi mendekati nol, maka model dianggap lebih baik. "
   ]
  },
  {
   "cell_type": "markdown",
   "metadata": {},
   "source": [
    "## Decision Tree"
   ]
  },
  {
   "cell_type": "markdown",
   "metadata": {},
   "source": [
    "### Fit, predict model, dan menghitung nilai akurasi dari training dan testing model"
   ]
  },
  {
   "cell_type": "code",
   "execution_count": 97,
   "metadata": {},
   "outputs": [
    {
     "name": "stdout",
     "output_type": "stream",
     "text": [
      "Training Score:  0.852\n",
      "Testing Score:  0.6638\n"
     ]
    }
   ],
   "source": [
    "# fit model pada train set\n",
    "pipe_dt.fit(X_train, y_train)\n",
    "# predict model pada test set\n",
    "y_dt_pred = pipe_dt.predict(X_test)\n",
    "# Menampilkan nilai akurasi training dan testing\n",
    "print('Training Score: ',round(pipe_dt.score(X_train, y_train),4))\n",
    "print('Testing Score: ', round(pipe_dt.score(X_test, y_test),4))"
   ]
  },
  {
   "cell_type": "markdown",
   "metadata": {},
   "source": [
    "**Insight:** Hasil akurasi training yang di dapatkan adalah 85% dengan akurasi testing sebesar 66%. Hasil yang didapatkan tidak  bagus karena hasilnya mengindikasikan adanya overfitting. Hal ini diduga dikarenakan data yang digunakan sangat banyak tetapi data yang diacak secara random tidak tersebar secara merata pada set training dan split sehingga menghasilkan angka yang sangat jauh antara training dan testingnya. Nilai kerandoman juga dapat memengaruhi dari performa akurasi training dan testing karena data diacak secara random. Selain itu karena data yang digunakan cukup banya, proses modelling juga semakin kompleks dan bisa menyebabkan adanya overfitting. Untuk meningkatkan performa akurasi dari model decision tree ini dapat di lakukan dengan kembali melakukan feature selection, mencoba dengan nilai kerandoman yang berbeda, mengurangi jumlah data, dan mencoba pembagian data menjadi 75% data training dan 25% data testing sehingga dapat meminimalkan peluang terjadinya overfitting. "
   ]
  },
  {
   "cell_type": "code",
   "execution_count": 98,
   "metadata": {},
   "outputs": [
    {
     "name": "stdout",
     "output_type": "stream",
     "text": [
      "              precision    recall  f1-score   support\n",
      "\n",
      " No Diabetes       0.64      0.67      0.66      6124\n",
      "    Diabetes       0.69      0.65      0.67      6680\n",
      "\n",
      "    accuracy                           0.66     12804\n",
      "   macro avg       0.66      0.66      0.66     12804\n",
      "weighted avg       0.66      0.66      0.66     12804\n",
      "\n"
     ]
    }
   ],
   "source": [
    "# Mendefinisikan target\n",
    "target = ['No Diabetes', 'Diabetes']\n",
    "# menampilkan classification report\n",
    "print(classification_report(y_test, y_dt_pred, target_names = target))"
   ]
  },
  {
   "cell_type": "markdown",
   "metadata": {},
   "source": [
    "**Insight:** Jika dilihat dari hasil precision, recall, dan f1-score, Hasil prediksi dari kedua kelas cukup seimbang dengan nilai yang dihasilkan. Ini berarti model dapat mendeteksi kedua kelas secara seimbang terlihat dari bagaimana model mendeteksi secara benar memprediksi kelas positif yaitu presisi, seberapa sering model dapat memprediksi positive instances (True Positive) dari semua nilai positif nya atau nilai aktual nya yang dilihat dari Recall, dan rata-rata harmonik dari precision dan recall. Karena prediksi yang dilakukan adalah prediksi apakah seseorang terkena diabetes atau tidak, jadi yang lebih diperhatikan adalah nilai dari recall nya. Recall pada kelas No diabetes sebesar 67% lebih besar dibandingkan dengan kelas Diabetes sebesar 65%. Berarti model ini lebih baik dalam deteksi orang yang tidak terkena diabetes dibandingkan dengan orang yang terkena diabetes walaupun dalam persentase tidak begitu jauh."
   ]
  },
  {
   "cell_type": "code",
   "execution_count": 41,
   "metadata": {},
   "outputs": [
    {
     "name": "stdout",
     "output_type": "stream",
     "text": [
      "F1 Score - All - Cross Validation  :  [0.66118859 0.66051128 0.66084038]\n",
      "F1 Score - Mean - Cross Validation :  0.6608467484444406\n",
      "F1 Score - Std - Cross Validation  :  0.0002765461306952778\n",
      "F1 Score - Range of Test-Set       :  0.6605702023137453 - 0.6611232945751359\n"
     ]
    }
   ],
   "source": [
    "# menggunakan StratifiedKFold untuk cross-validation\n",
    "stratified_kfold = StratifiedKFold(n_splits=3, shuffle=True, random_state=42)\n",
    "\n",
    "# mendefinisikan F1 scorer untuk cross validation\n",
    "f1_scorer = make_scorer(f1_score)\n",
    "\n",
    "# menghitung cross validation\n",
    "f1_train_cross_val = cross_val_score(pipe_dt, X_train, y_train, cv=stratified_kfold, scoring=f1_scorer)\n",
    "\n",
    "# menampilkan hasil\n",
    "print('F1 Score - All - Cross Validation  : ', f1_train_cross_val)\n",
    "print('F1 Score - Mean - Cross Validation : ', f1_train_cross_val.mean())\n",
    "print('F1 Score - Std - Cross Validation  : ', f1_train_cross_val.std())\n",
    "print('F1 Score - Range of Test-Set       : ', (f1_train_cross_val.mean() - f1_train_cross_val.std()), '-', (f1_train_cross_val.mean() + f1_train_cross_val.std()))"
   ]
  },
  {
   "cell_type": "markdown",
   "metadata": {},
   "source": [
    "**Insight:** Cross validation yang digunakan adalah StratifiedKFold karena menghasilkan nilai yang lebih baik dan juga dikarenakan terdapat beberapa variable yang multicolinear. Hasil dari cross validation menghasilkan nilai yang baik dan konsisten di angka 66%. Hal ini menunjukkan model cukup reliable dan dapat dipercaya pada proses prediksinya. Tetapi nilai f1 yang dihasilkan pada model decision tree ini tidak lebih baik dibandingkan dengan model knn walaupun nilai standar deviasi yang dihasilkan sangat bagus dan lebih kecil dibandingkan dengan model KNN, yaitu sebesar 0,0002. Semakin standar deviasi mendekati nol, maka model dianggap lebih baik. "
   ]
  },
  {
   "cell_type": "markdown",
   "metadata": {},
   "source": [
    "## Support Vector Machine (SVM)"
   ]
  },
  {
   "cell_type": "markdown",
   "metadata": {},
   "source": [
    "### Fit, predict model, dan menghitung nilai akurasi dari training dan testing model"
   ]
  },
  {
   "cell_type": "code",
   "execution_count": 42,
   "metadata": {},
   "outputs": [
    {
     "name": "stdout",
     "output_type": "stream",
     "text": [
      "Training Score:  0.7287\n",
      "Testing Score:  0.7259\n"
     ]
    }
   ],
   "source": [
    "# fit model pada train set\n",
    "pipe_svm.fit(X_train, y_train)\n",
    "# predict model pada test set\n",
    "y_svm_pred = pipe_svm.predict(X_test)\n",
    "# Menampilkan nilai akurasi training dan testing\n",
    "print('Training Score: ',round(pipe_svm.score(X_train, y_train),4))\n",
    "print('Testing Score: ', round(pipe_svm.score(X_test, y_test),4))"
   ]
  },
  {
   "cell_type": "markdown",
   "metadata": {},
   "source": [
    "**Insight:** Hasil akurasi training yang di dapatkan adalah 73% dengan akurasi testing sebesar 72%. Hasil yang didapatkan cukup bagus karena hasilnya tidak mengindikasikan adanya overfitting. Walaupun hasil yang didapatkan cukup bagus, tetapi dari segi komputasi yang dibutuhkan untuk menjalankan model svm ini cukup tinggi dan waktu yang dibutuhkan lebih banyak sekitar 5 menit dibandingkan dengan model lainnya. Hal ini memang salah satu kelemahan dari svm, yaitu tidak cocok untuk dataset yang besar. Untuk meningkatkan performa akurasi dari model svm ini dapat di lakukan dengan kembali melakukan feature selection, mengurangi jumlah data, dan hyperparamater tuning. "
   ]
  },
  {
   "cell_type": "markdown",
   "metadata": {},
   "source": [
    "### Menampilkan classification report"
   ]
  },
  {
   "cell_type": "code",
   "execution_count": 43,
   "metadata": {},
   "outputs": [
    {
     "name": "stdout",
     "output_type": "stream",
     "text": [
      "              precision    recall  f1-score   support\n",
      "\n",
      " No Diabetes       0.76      0.63      0.69      6124\n",
      "    Diabetes       0.70      0.82      0.76      6680\n",
      "\n",
      "    accuracy                           0.73     12804\n",
      "   macro avg       0.73      0.72      0.72     12804\n",
      "weighted avg       0.73      0.73      0.72     12804\n",
      "\n"
     ]
    }
   ],
   "source": [
    "# Mendefinisikan target\n",
    "target = ['No Diabetes', 'Diabetes']\n",
    "# menampilkan classification report\n",
    "print(classification_report(y_test, y_svm_pred, target_names = target))"
   ]
  },
  {
   "cell_type": "markdown",
   "metadata": {},
   "source": [
    "**Insight:** Jika dilihat dari hasil precision, recall, dan f1-score, Hasil prediksi dari kedua kelas cukup seimbang dengan nilai yang dihasilkan. Ini berarti model dapat mendeteksi kedua kelas secara seimbang terlihat dari bagaimana model mendeteksi secara benar memprediksi kelas positif yaitu presisi, seberapa sering model dapat memprediksi positive instances (True Positive) dari semua nilai positif nya atau nilai aktual nya yang dilihat dari Recall, dan rata-rata harmonik dari precision dan recall. Karena prediksi yang dilakukan adalah prediksi apakah seseorang terkena diabetes atau tidak, jadi yang lebih diperhatikan adalah nilai dari recall nya. Recall pada kelas No diabetes sebesar 63% lebih kecil dibandingkan dengan kelas Diabetes sebesar 82%. Berarti model ini lebih baik dalam deteksi orang yang terkena diabetes dibandingkan dengan orang yang tidak terkena diabetes dilihat dari seluruh data positifnya. "
   ]
  },
  {
   "cell_type": "markdown",
   "metadata": {},
   "source": [
    "### Melakukan cross validation untuk melihat performa model dalam memprediksi"
   ]
  },
  {
   "cell_type": "code",
   "execution_count": 44,
   "metadata": {},
   "outputs": [
    {
     "name": "stdout",
     "output_type": "stream",
     "text": [
      "F1 Score - All - Cross Validation  :  [0.75402537 0.75588664 0.7574045 ]\n",
      "F1 Score - Mean - Cross Validation :  0.7557721707321886\n",
      "F1 Score - Std - Cross Validation  :  0.0013818972827544403\n",
      "F1 Score - Range of Test-Set       :  0.7543902734494342 - 0.757154068014943\n"
     ]
    }
   ],
   "source": [
    "# menggunakan StratifiedKFold untuk cross-validation\n",
    "stratified_kfold = StratifiedKFold(n_splits=3, shuffle=True, random_state=42)\n",
    "\n",
    "# mendefinisikan F1 scorer untuk cross validation\n",
    "f1_scorer = make_scorer(f1_score)\n",
    "\n",
    "# menghitung cross validation\n",
    "f1_train_cross_val = cross_val_score(pipe_svm, X_train, y_train, cv=stratified_kfold, scoring=f1_scorer)\n",
    "\n",
    "# menampilkan hasil\n",
    "print('F1 Score - All - Cross Validation  : ', f1_train_cross_val)\n",
    "print('F1 Score - Mean - Cross Validation : ', f1_train_cross_val.mean())\n",
    "print('F1 Score - Std - Cross Validation  : ', f1_train_cross_val.std())\n",
    "print('F1 Score - Range of Test-Set       : ', (f1_train_cross_val.mean() - f1_train_cross_val.std()), '-', (f1_train_cross_val.mean() + f1_train_cross_val.std()))"
   ]
  },
  {
   "cell_type": "markdown",
   "metadata": {},
   "source": [
    "**Insight:** Cross validation yang digunakan adalah StratifiedKFold karena menghasilkan nilai yang lebih baik dan juga dikarenakan terdapat beberapa variable yang multicolinear. Hasil dari cross validation menghasilkan nilai yang baik dan konsisten di angka 75%. Hal ini menunjukkan model cukup reliable dan dapat dipercaya pada proses prediksinya. Nilai f1 yang dihasilkan pada model svm ini lebih baik dibandingkan dengan model KNN dan decision tree. Nilai standar deviasinya juga lebih kecil dibandingkan dengan KNN, yaitu diangka 0.001. Semakin standar deviasi mendekati nol, maka model dianggap lebih baik. "
   ]
  },
  {
   "cell_type": "markdown",
   "metadata": {},
   "source": [
    "## Random Forest"
   ]
  },
  {
   "cell_type": "markdown",
   "metadata": {},
   "source": [
    "### Fit, predict model, dan menghitung nilai akurasi dari training dan testing model"
   ]
  },
  {
   "cell_type": "code",
   "execution_count": 99,
   "metadata": {},
   "outputs": [
    {
     "name": "stdout",
     "output_type": "stream",
     "text": [
      "Training Score:  0.852\n",
      "Testing Score:  0.6888\n"
     ]
    }
   ],
   "source": [
    "# fit model pada train set\n",
    "rf = pipe_rf.fit(X_train, y_train)\n",
    "# predict model pada test set\n",
    "y_rf_pred = pipe_rf.predict(X_test)\n",
    "# Menampilkan nilai akurasi training dan testing\n",
    "print('Training Score: ',round(pipe_rf.score(X_train, y_train),4))\n",
    "print('Testing Score: ', round(pipe_rf.score(X_test, y_test),4))"
   ]
  },
  {
   "cell_type": "markdown",
   "metadata": {},
   "source": [
    "**Insight:** Hasil akurasi training yang di dapatkan adalah 85% dengan akurasi testing sebesar 68%. Hasil yang didapatkan tidak  bagus karena hasilnya mengindikasikan adanya overfitting. Hal ini diduga dikarenakan data yang digunakan sangat banyak tetapi data yang diacak secara random tidak tersebar secara merata pada set training dan split sehingga menghasilkan angka yang sangat jauh antara training dan testingnya. Data yang banyak juga dapat menyebabkan kompleksitas dari proses modelling juga lebih tinggi dan dapat menyebabkan overfitting. Nilai kerandoman juga dapat memengaruhi dari performa akurasi training dan testing karena data diacak secara random. \n",
    "\n",
    "Hasil yang didapatkan pada Random forest mirip dengan akurasi decision tree dikarenakan kedua algoritma ini yang masih saling berkaitan karena model random forest ini pada dasarnya adalah kumpulan dari banyak decision tree  yang berhubungan sehingga dapat menghasilkan hasil yang lebih baik dan dibuktikan dari hasil performa prediksi, akurasi testing dari random forest lebih baik dibandingkan dengan decision tree walaupun masih terjadi overfitting. \n",
    "\n",
    "Untuk meningkatkan performa akurasi dari model random forest ini dapat di lakukan dengan kembali melakukan feature selection, mencoba dengan nilai kerandoman yang berbeda, melakukan hyperparameter tuning, dan mencoba pembagian data menjadi 75% data training dan 25% data testing sehingga dapat meminimalkan peluang terjadinya overfitting. "
   ]
  },
  {
   "cell_type": "markdown",
   "metadata": {},
   "source": [
    "### Menampilkan classification report"
   ]
  },
  {
   "cell_type": "code",
   "execution_count": 100,
   "metadata": {},
   "outputs": [
    {
     "name": "stdout",
     "output_type": "stream",
     "text": [
      "              precision    recall  f1-score   support\n",
      "\n",
      " No Diabetes       0.68      0.65      0.67      6124\n",
      "    Diabetes       0.69      0.72      0.71      6680\n",
      "\n",
      "    accuracy                           0.69     12804\n",
      "   macro avg       0.69      0.69      0.69     12804\n",
      "weighted avg       0.69      0.69      0.69     12804\n",
      "\n"
     ]
    }
   ],
   "source": [
    "# Mendefinisikan target\n",
    "target = ['No Diabetes', 'Diabetes']\n",
    "# menampilkan classification report\n",
    "print(classification_report(y_test, y_rf_pred, target_names = target))"
   ]
  },
  {
   "cell_type": "markdown",
   "metadata": {},
   "source": [
    "**Insight:** Jika dilihat dari hasil precision, recall, dan f1-score, Hasil prediksi dari kedua kelas cukup seimbang dengan nilai yang dihasilkan. Ini berarti model dapat mendeteksi kedua kelas secara seimbang terlihat dari bagaimana model mendeteksi secara benar memprediksi kelas positif yaitu presisi, seberapa sering model dapat memprediksi positive instances (True Positive) dari semua nilai positif nya atau nilai aktual nya yang dilihat dari Recall, dan rata-rata harmonik dari precision dan recall. \n",
    "\n",
    "Karena prediksi yang dilakukan adalah prediksi apakah seseorang terkena diabetes atau tidak, jadi yang lebih diperhatikan adalah nilai dari recall nya. Recall pada kelas No diabetes sebesar 66% lebih kecil dibandingkan dengan kelas Diabetes sebesar 72%. Hasil ini tidak lebih baik dibandingkan dengan svm karena nilai dari recall kelas diabetes lebih rendah walaupun recall dari kelas No diabetes lebih unggul 2%. Model ini lebih baik dalam deteksi orang yang terkena diabetes dibandingkan dengan orang yang tidak terkena diabetes dilihat dari seluruh data positifnya. "
   ]
  },
  {
   "cell_type": "markdown",
   "metadata": {},
   "source": [
    "### Melakukan cross validation untuk melihat performa model dalam memprediksi"
   ]
  },
  {
   "cell_type": "code",
   "execution_count": 47,
   "metadata": {},
   "outputs": [
    {
     "name": "stdout",
     "output_type": "stream",
     "text": [
      "F1 Score - All - Cross Validation  :  [0.70473047 0.70492703 0.70941532]\n",
      "F1 Score - Mean - Cross Validation :  0.7063576058057661\n",
      "F1 Score - Std - Cross Validation  :  0.0021636168667552367\n",
      "F1 Score - Range of Test-Set       :  0.7041939889390109 - 0.7085212226725214\n"
     ]
    }
   ],
   "source": [
    "# menggunakan StratifiedKFold untuk cross-validation\n",
    "stratified_kfold = StratifiedKFold(n_splits=3, shuffle=True, random_state=42)\n",
    "\n",
    "# mendefinisikan F1 scorer untuk cross validation\n",
    "f1_scorer = make_scorer(f1_score)\n",
    "\n",
    "# menghitung cross validation\n",
    "f1_train_cross_val = cross_val_score(pipe_rf, X_train, y_train, cv=stratified_kfold, scoring=f1_scorer)\n",
    "\n",
    "# menampilkan hasil\n",
    "print('F1 Score - All - Cross Validation  : ', f1_train_cross_val)\n",
    "print('F1 Score - Mean - Cross Validation : ', f1_train_cross_val.mean())\n",
    "print('F1 Score - Std - Cross Validation  : ', f1_train_cross_val.std())\n",
    "print('F1 Score - Range of Test-Set       : ', (f1_train_cross_val.mean() - f1_train_cross_val.std()), '-', (f1_train_cross_val.mean() + f1_train_cross_val.std()))"
   ]
  },
  {
   "cell_type": "markdown",
   "metadata": {},
   "source": [
    "**Insight:** Cross validation yang digunakan adalah StratifiedKFold karena menghasilkan nilai yang lebih baik dan juga dikarenakan terdapat beberapa variable yang multicolinear. Hasil dari cross validation menghasilkan nilai yang baik dan konsisten di angka 70%. Hal ini menunjukkan model cukup reliable dan dapat dipercaya pada proses prediksinya. Nilai f1 yang dihasilkan pada random forest ini lebih baik dibandingkan dengan decision tree, tetapi tidak lebih baik dibandingkan dengan knn dan svm. Namun, nilai standar deviasinya sama baiknya dengan knn, yaitu diangka 0.002. Semakin standar deviasi mendekati nol, maka model dianggap lebih baik. "
   ]
  },
  {
   "cell_type": "markdown",
   "metadata": {},
   "source": [
    "## XGBoost"
   ]
  },
  {
   "cell_type": "markdown",
   "metadata": {},
   "source": [
    "### Fit, predict model, dan menghitung nilai akurasi dari training dan testing model"
   ]
  },
  {
   "cell_type": "code",
   "execution_count": 48,
   "metadata": {},
   "outputs": [
    {
     "name": "stdout",
     "output_type": "stream",
     "text": [
      "Training Score:  0.7538\n",
      "Testing Score:  0.7295\n"
     ]
    }
   ],
   "source": [
    "# fit model pada train set\n",
    "pipe_xgb.fit(X_train, y_train)\n",
    "# predict model pada test set\n",
    "y_xgb_pred = pipe_xgb.predict(X_test)\n",
    "# Menampilkan nilai akurasi training dan testing\n",
    "print('Training Score: ',round(pipe_xgb.score(X_train, y_train),4))\n",
    "print('Testing Score: ', round(pipe_xgb.score(X_test, y_test),4))"
   ]
  },
  {
   "cell_type": "markdown",
   "metadata": {},
   "source": [
    "**Insight:** Hasil akurasi training yang di dapatkan adalah 75% dengan akurasi testing sebesar 72%. Hasil yang didapatkan cukup bagus karena hasilnya tidak mengindikasikan adanya overfitting walaupun terdapat gap sebesar 3%. Hasil akurasi training dan testing yang dihasilkan XGboost merupakan hasil yang paling baik jika dibandingkan dengan keempat model lainnya. Dari segi waktu juga sangat jauh berbeda dengan model svm, model XGBoost ini cenderung jauh lebih cepat dan tidak memerlukan komputasi yang berat. Untuk meningkatkan performa akurasi dari model XGBoost ini dapat di lakukan dengan kembali melakukan feature selection dan hyperparamater tuning. "
   ]
  },
  {
   "cell_type": "markdown",
   "metadata": {},
   "source": [
    "### Menampilkan classification report"
   ]
  },
  {
   "cell_type": "code",
   "execution_count": 49,
   "metadata": {},
   "outputs": [
    {
     "name": "stdout",
     "output_type": "stream",
     "text": [
      "              precision    recall  f1-score   support\n",
      "\n",
      " No Diabetes       0.74      0.66      0.70      6124\n",
      "    Diabetes       0.72      0.79      0.75      6680\n",
      "\n",
      "    accuracy                           0.73     12804\n",
      "   macro avg       0.73      0.73      0.73     12804\n",
      "weighted avg       0.73      0.73      0.73     12804\n",
      "\n"
     ]
    }
   ],
   "source": [
    "# Mendefinisikan target\n",
    "target = ['No Diabetes', 'Diabetes']\n",
    "# menampilkan classification report\n",
    "print(classification_report(y_test, y_xgb_pred, target_names = target))"
   ]
  },
  {
   "cell_type": "markdown",
   "metadata": {},
   "source": [
    "**Insight:** Jika dilihat dari hasil precision, recall, dan f1-score, hasil prediksi dari kedua kelas cukup seimbang dengan nilai yang dihasilkan. Ini berarti model dapat mendeteksi kedua kelas secara seimbang terlihat dari bagaimana model mendeteksi secara benar memprediksi kelas positif yaitu presisi, seberapa sering model dapat memprediksi positive instances (True Positive) dari semua nilai positif nya atau nilai aktual nya yang dilihat dari Recall, dan rata-rata harmonik dari precision dan recall. \n",
    "\n",
    "Karena prediksi yang dilakukan adalah prediksi apakah seseorang terkena diabetes atau tidak, jadi yang lebih diperhatikan adalah nilai dari recall nya. Recall pada kelas No diabetes sebesar 66% lebih kecil dibandingkan dengan kelas Diabetes sebesar 79%. Model ini lebih baik dalam deteksi orang yang terkena diabetes dibandingkan dengan orang yang tidak terkena diabetes dilihat dari seluruh data positifnya. "
   ]
  },
  {
   "cell_type": "markdown",
   "metadata": {},
   "source": [
    "### Melakukan cross validation untuk melihat performa model dalam memprediksi"
   ]
  },
  {
   "cell_type": "code",
   "execution_count": 50,
   "metadata": {},
   "outputs": [
    {
     "name": "stdout",
     "output_type": "stream",
     "text": [
      "F1 Score - All - Cross Validation  :  [0.75012042 0.74876104 0.75097672]\n",
      "F1 Score - Mean - Cross Validation :  0.749952726539797\n",
      "F1 Score - Std - Cross Validation  :  0.0009122849241143883\n",
      "F1 Score - Range of Test-Set       :  0.7490404416156826 - 0.7508650114639115\n"
     ]
    }
   ],
   "source": [
    "# menggunakan StratifiedKFold untuk cross-validation\n",
    "stratified_kfold = StratifiedKFold(n_splits=3, shuffle=True, random_state=42)\n",
    "\n",
    "# mendefinisikan F1 scorer untuk cross validation\n",
    "f1_scorer = make_scorer(f1_score)\n",
    "\n",
    "# menghitung cross validation\n",
    "f1_train_cross_val = cross_val_score(pipe_xgb, X_train, y_train, cv=stratified_kfold, scoring=f1_scorer)\n",
    "\n",
    "# menampilkan hasil\n",
    "print('F1 Score - All - Cross Validation  : ', f1_train_cross_val)\n",
    "print('F1 Score - Mean - Cross Validation : ', f1_train_cross_val.mean())\n",
    "print('F1 Score - Std - Cross Validation  : ', f1_train_cross_val.std())\n",
    "print('F1 Score - Range of Test-Set       : ', (f1_train_cross_val.mean() - f1_train_cross_val.std()), '-', (f1_train_cross_val.mean() + f1_train_cross_val.std()))"
   ]
  },
  {
   "cell_type": "markdown",
   "metadata": {},
   "source": [
    "**Insight:** Cross validation yang digunakan adalah StratifiedKFold karena menghasilkan nilai yang lebih baik dan juga dikarenakan terdapat beberapa variable yang multicolinear. Hasil dari cross validation menghasilkan nilai yang baik dan konsisten di angka 74% - 75%. Hal ini menunjukkan model cukup reliable dan dapat dipercaya pada proses prediksinya. Nilai f1 yang dihasilkan pada XGBoost ini lebih baik dibandingkan dengan decision tree, knn, dan random forest, tetapi tidak lebih baik dibandingkan dengan svm. Namun, nilai standar deviasinya jauh lebih baik dibandingkan dengan svm walaupun tidak lebih baik dibandingkan dengan decision tree. Semakin standar deviasi mendekati nol, maka model dianggap lebih baik. "
   ]
  },
  {
   "cell_type": "markdown",
   "metadata": {},
   "source": [
    "# Base Model Comparison"
   ]
  },
  {
   "cell_type": "code",
   "execution_count": 51,
   "metadata": {},
   "outputs": [],
   "source": [
    "# Mendefinisikan model\n",
    "models = {\n",
    "    'SVM' : pipe_svm,\n",
    "    'KNN' : pipe_knn,\n",
    "    'Decision Tree' : pipe_dt,\n",
    "    'Random Forest' : pipe_rf,\n",
    "    'XGBoost' : pipe_xgb\n",
    "}\n",
    "\n",
    "# mendefinisikan metriks nya\n",
    "metrics = {\n",
    "    'Accuracy' : accuracy_score,\n",
    "    'F1-Score' : f1_score,\n",
    "}\n",
    "\n",
    "# membuat dataframe \n",
    "df_model = pd.DataFrame(columns = models.keys(), index=['Accuracy', 'F1-Score'])\n",
    "\n",
    "# Melakukan perhitungan akurasi dan nilai f1\n",
    "for metric in metrics.keys():\n",
    "  for model in models.keys():\n",
    "    df_model.loc[metric, model] = metrics[metric](y_test, models[model].predict(X_test))"
   ]
  },
  {
   "cell_type": "code",
   "execution_count": 52,
   "metadata": {},
   "outputs": [
    {
     "data": {
      "text/html": [
       "<div>\n",
       "<style scoped>\n",
       "    .dataframe tbody tr th:only-of-type {\n",
       "        vertical-align: middle;\n",
       "    }\n",
       "\n",
       "    .dataframe tbody tr th {\n",
       "        vertical-align: top;\n",
       "    }\n",
       "\n",
       "    .dataframe thead th {\n",
       "        text-align: right;\n",
       "    }\n",
       "</style>\n",
       "<table border=\"1\" class=\"dataframe\">\n",
       "  <thead>\n",
       "    <tr style=\"text-align: right;\">\n",
       "      <th></th>\n",
       "      <th>SVM</th>\n",
       "      <th>KNN</th>\n",
       "      <th>Decision Tree</th>\n",
       "      <th>Random Forest</th>\n",
       "      <th>XGBoost</th>\n",
       "    </tr>\n",
       "  </thead>\n",
       "  <tbody>\n",
       "    <tr>\n",
       "      <th>Accuracy</th>\n",
       "      <td>0.725867</td>\n",
       "      <td>0.694705</td>\n",
       "      <td>0.663855</td>\n",
       "      <td>0.68666</td>\n",
       "      <td>0.729538</td>\n",
       "    </tr>\n",
       "    <tr>\n",
       "      <th>F1-Score</th>\n",
       "      <td>0.756622</td>\n",
       "      <td>0.716595</td>\n",
       "      <td>0.669888</td>\n",
       "      <td>0.706811</td>\n",
       "      <td>0.752731</td>\n",
       "    </tr>\n",
       "  </tbody>\n",
       "</table>\n",
       "</div>"
      ],
      "text/plain": [
       "               SVM       KNN Decision Tree Random Forest   XGBoost\n",
       "Accuracy  0.725867  0.694705      0.663855       0.68666  0.729538\n",
       "F1-Score  0.756622  0.716595      0.669888      0.706811  0.752731"
      ]
     },
     "execution_count": 52,
     "metadata": {},
     "output_type": "execute_result"
    }
   ],
   "source": [
    "# Menampilkan comparison hasil dari kelima model\n",
    "df_model"
   ]
  },
  {
   "cell_type": "markdown",
   "metadata": {},
   "source": [
    "**Insight:** Terlihat dari hasil comparison dari kelima model, model XGBoost merupakan model yang lebih unggul dibandingkan dengan model lainnya jika dilihat dari akurasi testingnya tetapi jika dilihat dari F1 score, yang paling baik adalah SVM. "
   ]
  },
  {
   "cell_type": "code",
   "execution_count": 53,
   "metadata": {},
   "outputs": [],
   "source": [
    "# Mendefinisikan model\n",
    "models = {\n",
    "    'SVM' : pipe_svm,\n",
    "    'KNN' : pipe_knn,\n",
    "    'Decision Tree' : pipe_dt,\n",
    "    'Random Forest' : pipe_rf,\n",
    "    'XGBoost' : pipe_xgb\n",
    "}\n",
    "\n",
    "# Mendefinisian metrics yang dibandingkan\n",
    "metrics = {\n",
    "    'Mean' : cross_val_score(models[model], X_train, y_train, cv = stratified_kfold, scoring='f1').mean(),\n",
    "    'Std' : cross_val_score(models[model], X_train, y_train, cv = stratified_kfold, scoring='f1').std()\n",
    "}\n",
    "\n",
    "# membuat dataframe untuk df_cross_val\n",
    "df_cross_val = pd.DataFrame(columns = models.keys(), index = ['Mean', 'Std'])\n",
    "\n",
    "# menghitung nilai dari metrics\n",
    "for i in metrics.keys():\n",
    "  for j in models.keys():\n",
    "    df_cross_val.loc[i, j] = metrics[i]"
   ]
  },
  {
   "cell_type": "code",
   "execution_count": 54,
   "metadata": {},
   "outputs": [
    {
     "data": {
      "text/html": [
       "<div>\n",
       "<style scoped>\n",
       "    .dataframe tbody tr th:only-of-type {\n",
       "        vertical-align: middle;\n",
       "    }\n",
       "\n",
       "    .dataframe tbody tr th {\n",
       "        vertical-align: top;\n",
       "    }\n",
       "\n",
       "    .dataframe thead th {\n",
       "        text-align: right;\n",
       "    }\n",
       "</style>\n",
       "<table border=\"1\" class=\"dataframe\">\n",
       "  <thead>\n",
       "    <tr style=\"text-align: right;\">\n",
       "      <th></th>\n",
       "      <th>SVM</th>\n",
       "      <th>KNN</th>\n",
       "      <th>Decision Tree</th>\n",
       "      <th>Random Forest</th>\n",
       "      <th>XGBoost</th>\n",
       "    </tr>\n",
       "  </thead>\n",
       "  <tbody>\n",
       "    <tr>\n",
       "      <th>Mean</th>\n",
       "      <td>0.749953</td>\n",
       "      <td>0.749953</td>\n",
       "      <td>0.749953</td>\n",
       "      <td>0.749953</td>\n",
       "      <td>0.749953</td>\n",
       "    </tr>\n",
       "    <tr>\n",
       "      <th>Std</th>\n",
       "      <td>0.000912</td>\n",
       "      <td>0.000912</td>\n",
       "      <td>0.000912</td>\n",
       "      <td>0.000912</td>\n",
       "      <td>0.000912</td>\n",
       "    </tr>\n",
       "  </tbody>\n",
       "</table>\n",
       "</div>"
      ],
      "text/plain": [
       "           SVM       KNN Decision Tree Random Forest   XGBoost\n",
       "Mean  0.749953  0.749953      0.749953      0.749953  0.749953\n",
       "Std   0.000912  0.000912      0.000912      0.000912  0.000912"
      ]
     },
     "execution_count": 54,
     "metadata": {},
     "output_type": "execute_result"
    }
   ],
   "source": [
    "# Menampilkan hasil perhitungan untuk metrics evaluasi\n",
    "df_cross_val"
   ]
  },
  {
   "cell_type": "markdown",
   "metadata": {},
   "source": [
    "**insight:** Hasil perbandingan ini menggunakan cross_val_score yang mana dari kelima model memiliki hasil yang sama dari performa konsistensi prediksi dilihat dari mean dan standar deviasinya. "
   ]
  },
  {
   "cell_type": "markdown",
   "metadata": {},
   "source": [
    "# Model Optimization"
   ]
  },
  {
   "cell_type": "markdown",
   "metadata": {},
   "source": [
    "## Mendefinisikan hyperparameter"
   ]
  },
  {
   "cell_type": "code",
   "execution_count": 55,
   "metadata": {},
   "outputs": [],
   "source": [
    "param_svm = {\n",
    "    'classifier__C': [0.1, 1, 10, 100],  \n",
    "    'classifier__gamma': [1, 0.1, 0.01, 0.001, 0.0001]  \n",
    "}\n",
    "param_knn = {\n",
    "    'classifier__n_neighbors': np.arange(2, 30, 1), \n",
    "    'classifier__weights': ['uniform', 'distance']  \n",
    "}\n",
    "param_dt = {\n",
    "    'classifier__criterion': ['gini', 'entropy'],\n",
    "    'classifier__max_depth': [5, 10, 15, 20],\n",
    "    'classifier__min_samples_leaf': [1, 2, 4],\n",
    "    'classifier__ccp_alpha': [0.0, 0.1, 0.2]\n",
    "}\n",
    "\n",
    "param_rf = {\n",
    "    'classifier__n_estimators': np.arange(200, 401, 30),\n",
    "    'classifier__max_depth': np.arange(4, 8, 2),\n",
    "}\n",
    "param_xgb = {\n",
    "    'classifier__max_depth': [3, 5, 7],\n",
    "    'classifier__n_estimators': [50, 100, 150],\n",
    "    'classifier__learning_rate': [0.1, 0.01, 0.001],\n",
    "    'transformer__verbose': [0],\n",
    "}"
   ]
  },
  {
   "cell_type": "markdown",
   "metadata": {},
   "source": [
    "**Insigth:** Pada bagian ini karena tuning akan menggunakan gridsearchcv, maka dari itu perli di definisikan hyperparameter setiap model.\n",
    "\n",
    "- **SVM**\n",
    "    - **classifier__C** : parameter yang mengontrol parameter ketidaksetaraan (regularization) dalam model SVM. \n",
    "    - **classifier__gamma**: parameter yang mengontrol koefisien kernel untuk 'rbf', 'poly', dan 'sigmoid'.\n",
    "\n",
    "- **KNN**\n",
    "    - **classifier__n_neighbors** :  parameter yang menentukan jumlah tetangga yang akan dipertimbangkan oleh model KNN.\n",
    "    - **classifier__weights**: parameter yang menentukan bobot yang akan diberikan kepada tetangga berdasarkan jarak. \n",
    "\n",
    "- **Decision Tree**\n",
    "    - **classifier__criterion**: Fungsi pengukuran kualitas pemisahan pada setiap node, bisa \"gini\" atau \"entropy\".\n",
    "    - **classifier__max_depth**: Jumlah maksimum tingkat node dalam pohon keputusan.\n",
    "    - **classifier__min_samples_leaf**: Jumlah sampel minimum yang diperlukan untuk membentuk daun pohon.\n",
    "    - **classifier__ccp_alpha**: Parameter kompleksitas pohon yang membantu mengontrol pruning. Nilai yang lebih tinggi menghasilkan pohon yang lebih sederhana.\n",
    "\n",
    "- **Random Forest**\n",
    "    - **classifier__n_estimators**: Jumlah pohon keputusan dalam ensemble.\n",
    "    - **classifier__max_depth**: Jumlah maksimum tingkat node dalam setiap pohon.\n",
    "- **XGBoost**\n",
    "    - **classifier__max_depth**: Jumlah maksimum tingkat node dalam pohon.\n",
    "    - **classifier__n_estimators**: Jumlah iterasi (pohon) dalam boosting.\n",
    "    - **classifier__learning_rate**: Tingkat pembelajaran untuk mengontrol kontribusi setiap pohon.\n",
    "    - **transformer__verbose**: Parameter verbose untuk transformer, yang digunakan untuk menentukan      seberapa banyak output yang dihasilkan selama proses training."
   ]
  },
  {
   "cell_type": "markdown",
   "metadata": {},
   "source": [
    "## KNN"
   ]
  },
  {
   "cell_type": "code",
   "execution_count": 56,
   "metadata": {},
   "outputs": [],
   "source": [
    "# proses grid search untuk tuning hyperparameter secara paralel\n",
    "grid_knn = GridSearchCV(pipe_knn, param_grid=param_knn, cv=stratified_kfold, n_jobs=-1).fit(X_train, y_train)"
   ]
  },
  {
   "cell_type": "code",
   "execution_count": 57,
   "metadata": {},
   "outputs": [
    {
     "name": "stdout",
     "output_type": "stream",
     "text": [
      "Train Set Score :  0.7422680412371134\n",
      "Test Set Score :  0.7220399875039051\n"
     ]
    }
   ],
   "source": [
    "# Menampilkan hasil train dan test setelah dilakukan tuning\n",
    "print('Train Set Score : ', grid_knn.score(X_train, y_train))\n",
    "print('Test Set Score : ', grid_knn.score(X_test, y_test))"
   ]
  },
  {
   "cell_type": "markdown",
   "metadata": {},
   "source": [
    "**Insight:** Setelah dilakukan tuning, hasil akurasi nilai training dan test yang dihasilkan jauh lebih baik dan tidak mengindikasikan adanya overfitting dengan nilai training setelah tuning adalah 74% dan nilai testing adalah 72%. Jika nilai training sebelum tuning di bandingkan, memang terdapat penurunan akurasi sebanyak 2% akan tetapi pada nilai testing terdapat kenaikan sebanyak 3% yang mana menjadikan hasil dari akurasi knn ini tidak mengalami overfitting. "
   ]
  },
  {
   "cell_type": "code",
   "execution_count": 58,
   "metadata": {},
   "outputs": [
    {
     "name": "stdout",
     "output_type": "stream",
     "text": [
      "{'classifier__n_neighbors': 29, 'classifier__weights': 'uniform'}\n",
      "\n",
      "\n",
      "Pipeline(steps=[('transformer',\n",
      "                 ColumnTransformer(transformers=[('scaler', MinMaxScaler(),\n",
      "                                                  ['Age', 'BMI', 'PhysHlth']),\n",
      "                                                 ('encoding', OrdinalEncoder(),\n",
      "                                                  ['HighChol', 'GenHlth',\n",
      "                                                   'PhysActivity',\n",
      "                                                   'HighBP'])])),\n",
      "                ('classifier', KNeighborsClassifier(n_neighbors=29))])\n",
      "\n",
      "\n",
      "Index(['mean_fit_time', 'std_fit_time', 'mean_score_time', 'std_score_time',\n",
      "       'param_classifier__n_neighbors', 'param_classifier__weights', 'params',\n",
      "       'split0_test_score', 'split1_test_score', 'split2_test_score',\n",
      "       'mean_test_score', 'std_test_score', 'rank_test_score'],\n",
      "      dtype='object')\n"
     ]
    }
   ],
   "source": [
    "# Mendefinisikan parameter yang terbaik\n",
    "best_param_knn = grid_knn.best_params_\n",
    "# Menampilkan best parameter\n",
    "print(best_param_knn)\n",
    "print('\\n')\n",
    "# mendefinsiikan estimator yang terbaik\n",
    "best_pipe_knn = grid_knn.best_estimator_\n",
    "# menampilkan estimator yang terbaik\n",
    "print(best_pipe_knn)\n",
    "print('\\n')\n",
    "# Membuat dataframe untuk result_df_knn\n",
    "result_df_knn = pd.DataFrame.from_dict(grid_knn.cv_results_, orient='columns')\n",
    "# menampilkan kolom result_df_knn\n",
    "print(result_df_knn.columns)"
   ]
  },
  {
   "cell_type": "markdown",
   "metadata": {},
   "source": [
    "**Insight:** Hasil parameter yang optimal untuk KNN adalah 'classifier__n_neighbors': 29, 'classifier__weights': 'uniform' dengan scalling menggunakan MinMaxScaler. Hal ini didapatkan karena menggunakan metode grid search. Dari beberapa hyperparameter yang didefinisikan, dicari kombinasi hyperparameter yang menghasilkan nilai performa paling bagus untuk model. "
   ]
  },
  {
   "cell_type": "code",
   "execution_count": 59,
   "metadata": {},
   "outputs": [
    {
     "name": "stdout",
     "output_type": "stream",
     "text": [
      "              precision    recall  f1-score   support\n",
      "\n",
      " No Diabetes       0.74      0.65      0.69      6124\n",
      "    Diabetes       0.71      0.79      0.75      6680\n",
      "\n",
      "    accuracy                           0.72     12804\n",
      "   macro avg       0.72      0.72      0.72     12804\n",
      "weighted avg       0.72      0.72      0.72     12804\n",
      "\n"
     ]
    }
   ],
   "source": [
    "Target = ['No Diabetes', 'Diabetes']\n",
    "print(classification_report(y_test, best_pipe_knn.predict(X_test), target_names = Target))"
   ]
  },
  {
   "cell_type": "markdown",
   "metadata": {},
   "source": [
    "**Insigth:** Jika dilihat dari presisi, recall, dan f1-score nya, semua nilai setelah tuning mengalami peningkatan khususnya pada recall jika dilihat nilai kelas No diabetes tidak ada peningkatan ataupun penurunan tetapi pada kelas Diabetes meningkat sebesar 5%. "
   ]
  },
  {
   "cell_type": "markdown",
   "metadata": {},
   "source": [
    "## Decision Tree"
   ]
  },
  {
   "cell_type": "code",
   "execution_count": 60,
   "metadata": {},
   "outputs": [],
   "source": [
    "# proses grid search untuk tuning hyperparameter secara paralel\n",
    "grid_dt = GridSearchCV(pipe_dt, param_grid=param_dt, cv=stratified_kfold, n_jobs=-1).fit(X_train, y_train)"
   ]
  },
  {
   "cell_type": "code",
   "execution_count": 61,
   "metadata": {},
   "outputs": [
    {
     "name": "stdout",
     "output_type": "stream",
     "text": [
      "Train Set Score :  0.7455873164636051\n",
      "Test Set Score :  0.7295376444860981\n"
     ]
    }
   ],
   "source": [
    "# Menampilkan hasil train dan test setelah dilakukan tuning\n",
    "print('Train Set Score : ', grid_dt.score(X_train, y_train))\n",
    "print('Test Set Score : ', grid_dt.score(X_test, y_test))"
   ]
  },
  {
   "cell_type": "markdown",
   "metadata": {},
   "source": [
    "**Insight:** Setelah dilakukan tuning, pada model decision tree ini mengalami improvisasi dari performa model. Model decision tree sebelum di tuning mengalami overfitting dengan nilai training sebesar 85% dan nilai testing sebesar 65% yang mana memiliki gap yang sangat jauh. Model decision tree setelah di training tidak mengalami overfitting walaupun nilai training nya turun menjadi 74% tetapi dari nilai testing nya naik sebesar 7% menjadi 72% menyeimbangi nilai dari training."
   ]
  },
  {
   "cell_type": "code",
   "execution_count": 62,
   "metadata": {},
   "outputs": [
    {
     "name": "stdout",
     "output_type": "stream",
     "text": [
      "{'classifier__ccp_alpha': 0.0, 'classifier__criterion': 'entropy', 'classifier__max_depth': 10, 'classifier__min_samples_leaf': 2}\n",
      "\n",
      "\n",
      "Pipeline(steps=[('transformer',\n",
      "                 ColumnTransformer(transformers=[('scaler', MinMaxScaler(),\n",
      "                                                  ['Age', 'BMI', 'PhysHlth']),\n",
      "                                                 ('encoding', OrdinalEncoder(),\n",
      "                                                  ['HighChol', 'GenHlth',\n",
      "                                                   'PhysActivity',\n",
      "                                                   'HighBP'])])),\n",
      "                ('classifier',\n",
      "                 DecisionTreeClassifier(criterion='entropy', max_depth=10,\n",
      "                                        min_samples_leaf=2))])\n",
      "\n",
      "\n",
      "Index(['mean_fit_time', 'std_fit_time', 'mean_score_time', 'std_score_time',\n",
      "       'param_classifier__ccp_alpha', 'param_classifier__criterion',\n",
      "       'param_classifier__max_depth', 'param_classifier__min_samples_leaf',\n",
      "       'params', 'split0_test_score', 'split1_test_score', 'split2_test_score',\n",
      "       'mean_test_score', 'std_test_score', 'rank_test_score'],\n",
      "      dtype='object')\n"
     ]
    }
   ],
   "source": [
    "# Mendefinisikan parameter yang terbaik\n",
    "best_param_dt = grid_dt.best_params_\n",
    "# Menampilkan best parameter\n",
    "print(best_param_dt)\n",
    "print('\\n')\n",
    "# mendefinsiikan estimator yang terbaik\n",
    "best_pipe_dt = grid_dt.best_estimator_\n",
    "# menampilkan estimator yang terbaik\n",
    "print(best_pipe_dt)\n",
    "print('\\n')\n",
    "# Membuat dataframe untuk result_df_dt\n",
    "result_df_dt = pd.DataFrame.from_dict(grid_dt.cv_results_, orient='columns')\n",
    "# menampilkan kolom result_df_dt\n",
    "print(result_df_dt.columns)"
   ]
  },
  {
   "cell_type": "markdown",
   "metadata": {},
   "source": [
    "**Insight:** Hasil parameter yang optimal untuk Decision Tree adalah 'classifier__ccp_alpha': 0.0, 'classifier__criterion': 'entropy', 'classifier__max_depth': 10, 'classifier__min_samples_leaf': 2 dengan scalling menggunakan MinMaxScaler. Hal ini didapatkan karena menggunakan metode grid search. Dari beberapa hyperparameter yang didefinisikan, dicari kombinasi hyperparameter yang menghasilkan nilai performa paling bagus untuk model. "
   ]
  },
  {
   "cell_type": "code",
   "execution_count": 63,
   "metadata": {},
   "outputs": [
    {
     "name": "stdout",
     "output_type": "stream",
     "text": [
      "              precision    recall  f1-score   support\n",
      "\n",
      "         0.0       0.75      0.66      0.70      6124\n",
      "         1.0       0.72      0.80      0.75      6680\n",
      "\n",
      "    accuracy                           0.73     12804\n",
      "   macro avg       0.73      0.73      0.73     12804\n",
      "weighted avg       0.73      0.73      0.73     12804\n",
      "\n"
     ]
    }
   ],
   "source": [
    "print(classification_report(y_test, best_pipe_dt.predict(X_test)))"
   ]
  },
  {
   "cell_type": "markdown",
   "metadata": {},
   "source": [
    "**Insigth:** Jika dilihat dari presisi, recall, dan f1-score nya, semua nilai setelah tuning mengalami peningkatan khususnya pada recall jika dilihat nilai kelas No diabetes menurun sebesar 1% dan pada kelas Diabetes meningkat sebesar 15%. Walaupun ada sedikit penurunan untuk recall kelas No Diabetes, tetapi ada peningkatan secara signifikan pada recall kelas Diabetes. "
   ]
  },
  {
   "cell_type": "markdown",
   "metadata": {},
   "source": [
    "## Support Vector Machine (SVM)"
   ]
  },
  {
   "cell_type": "code",
   "execution_count": 101,
   "metadata": {},
   "outputs": [],
   "source": [
    "# proses grid search untuk tuning hyperparameter secara paralel\n",
    "grid_svm = GridSearchCV(pipe_svm, param_grid=param_svm, cv=stratified_kfold, n_jobs=-1).fit(X_train, y_train)"
   ]
  },
  {
   "cell_type": "code",
   "execution_count": 102,
   "metadata": {},
   "outputs": [
    {
     "name": "stdout",
     "output_type": "stream",
     "text": [
      "Train Set Score :  0.7292057169634489\n",
      "Test Set Score :  0.7303967510153078\n"
     ]
    }
   ],
   "source": [
    "# Menampilkan hasil train dan test setelah dilakukan tuning\n",
    "print('Train Set Score : ', grid_svm.score(X_train, y_train))\n",
    "print('Test Set Score : ', grid_svm.score(X_test, y_test))"
   ]
  },
  {
   "cell_type": "markdown",
   "metadata": {},
   "source": [
    "**Insight:** Hasil dari parameter tuning SVM mengalami peningkatan pada testing accuracy nya sebanyak 1%. Hasil yang didapatkan cukup bagus karena antara trainig dan testing sangat seimbang hasilnya. Walaupun begitu komputasi dan waktu yang diperlukan sangat tinggi sekitar 30 menit untuk menjalankan gridsearch ini menggunakan model svm."
   ]
  },
  {
   "cell_type": "code",
   "execution_count": 103,
   "metadata": {},
   "outputs": [
    {
     "name": "stdout",
     "output_type": "stream",
     "text": [
      "{'classifier__C': 100, 'classifier__gamma': 0.001}\n",
      "\n",
      "\n",
      "Pipeline(steps=[('transformer',\n",
      "                 ColumnTransformer(transformers=[('scaler', MinMaxScaler(),\n",
      "                                                  ['Age', 'BMI', 'PhysHlth']),\n",
      "                                                 ('encoding', OrdinalEncoder(),\n",
      "                                                  ['HighChol', 'GenHlth',\n",
      "                                                   'PhysActivity',\n",
      "                                                   'HighBP'])])),\n",
      "                ('classifier', SVC(C=100, gamma=0.001))])\n",
      "\n",
      "\n",
      "Index(['mean_fit_time', 'std_fit_time', 'mean_score_time', 'std_score_time',\n",
      "       'param_classifier__C', 'param_classifier__gamma', 'params',\n",
      "       'split0_test_score', 'split1_test_score', 'split2_test_score',\n",
      "       'mean_test_score', 'std_test_score', 'rank_test_score'],\n",
      "      dtype='object')\n"
     ]
    }
   ],
   "source": [
    "# Mendefinisikan parameter yang terbaik\n",
    "best_param_svm = grid_svm.best_params_\n",
    "# Menampilkan best parameter\n",
    "print(best_param_svm)\n",
    "print('\\n')\n",
    "# mendefinsiikan estimator yang terbaik\n",
    "best_pipe_svm = grid_svm.best_estimator_\n",
    "# menampilkan estimator yang terbaik\n",
    "print(best_pipe_svm)\n",
    "print('\\n')\n",
    "# Membuat dataframe untuk result_df_svm\n",
    "result_df_svm = pd.DataFrame.from_dict(grid_svm.cv_results_, orient='columns')\n",
    "# menampilkan kolom result_df_svm\n",
    "print(result_df_svm.columns)"
   ]
  },
  {
   "cell_type": "markdown",
   "metadata": {},
   "source": [
    "**Insight:** Hasil parameter yang optimal untuk SVM adalah 'classifier__C': 100, 'classifier__gamma': 0.001 dengan scalling menggunakan MinMaxScaler. Hal ini didapatkan karena menggunakan metode grid search. Dari beberapa hyperparameter yang didefinisikan, dicari kombinasi hyperparameter yang menghasilkan nilai performa paling bagus untuk model. "
   ]
  },
  {
   "cell_type": "code",
   "execution_count": 104,
   "metadata": {},
   "outputs": [
    {
     "name": "stdout",
     "output_type": "stream",
     "text": [
      "              precision    recall  f1-score   support\n",
      "\n",
      "         0.0       0.75      0.65      0.70      6124\n",
      "         1.0       0.71      0.81      0.76      6680\n",
      "\n",
      "    accuracy                           0.73     12804\n",
      "   macro avg       0.73      0.73      0.73     12804\n",
      "weighted avg       0.73      0.73      0.73     12804\n",
      "\n"
     ]
    }
   ],
   "source": [
    "print(classification_report(y_test, best_pipe_svm.predict(X_test)))"
   ]
  },
  {
   "cell_type": "markdown",
   "metadata": {},
   "source": [
    "**Insigth:** Jika dilihat dari presisi, recall, dan f1-score nya, semua nilai setelah tuning mengalami peningkatan khususnya pada recall jika dilihat nilai kelas No diabetes mengalami kenaikan sebesar 2% dan pada kelas Diabetes meningkat sebesar 1%."
   ]
  },
  {
   "cell_type": "markdown",
   "metadata": {},
   "source": [
    "## Random Forest"
   ]
  },
  {
   "cell_type": "code",
   "execution_count": 105,
   "metadata": {},
   "outputs": [],
   "source": [
    "# proses grid search untuk tuning hyperparameter secara paralel\n",
    "grid_rf = GridSearchCV(pipe_rf, param_grid=param_rf, cv=stratified_kfold, n_jobs=-1).fit(X_train, y_train)"
   ]
  },
  {
   "cell_type": "code",
   "execution_count": 106,
   "metadata": {},
   "outputs": [
    {
     "name": "stdout",
     "output_type": "stream",
     "text": [
      "Train Set Score :  0.7340479537644486\n",
      "Test Set Score :  0.7297719462667916\n"
     ]
    }
   ],
   "source": [
    "# Menampilkan hasil train dan test setelah dilakukan tuning\n",
    "print('Train Set Score : ', grid_rf.score(X_train, y_train))\n",
    "print('Test Set Score : ', grid_rf.score(X_test, y_test))"
   ]
  },
  {
   "cell_type": "markdown",
   "metadata": {},
   "source": [
    "**Insight:** Pada hasil tuning model random forest terdapat perbaikan dari performa model dilihat dari training dan testing score nya. Model random forest sebelum di tuning mengalami overfitting dengan nilai training sebesar 88% dan nilai testing sebesar 68%. Setelah tuning, model tidak mengindikasikan adanya overfitting karena nilai training dan testing yang dihasil kan cukup seimbang dengan nilainya secara berturut-turur 73% dan 72%."
   ]
  },
  {
   "cell_type": "code",
   "execution_count": 107,
   "metadata": {},
   "outputs": [
    {
     "name": "stdout",
     "output_type": "stream",
     "text": [
      "{'classifier__max_depth': 6, 'classifier__n_estimators': 320}\n",
      "\n",
      "\n",
      "Pipeline(steps=[('transformer',\n",
      "                 ColumnTransformer(transformers=[('scaler', MinMaxScaler(),\n",
      "                                                  ['Age', 'BMI', 'PhysHlth']),\n",
      "                                                 ('encoding', OrdinalEncoder(),\n",
      "                                                  ['HighChol', 'GenHlth',\n",
      "                                                   'PhysActivity',\n",
      "                                                   'HighBP'])])),\n",
      "                ('classifier',\n",
      "                 RandomForestClassifier(max_depth=6, n_estimators=320))])\n",
      "\n",
      "\n",
      "Index(['mean_fit_time', 'std_fit_time', 'mean_score_time', 'std_score_time',\n",
      "       'param_classifier__max_depth', 'param_classifier__n_estimators',\n",
      "       'params', 'split0_test_score', 'split1_test_score', 'split2_test_score',\n",
      "       'mean_test_score', 'std_test_score', 'rank_test_score'],\n",
      "      dtype='object')\n"
     ]
    }
   ],
   "source": [
    "# Mendefinisikan parameter yang terbaik\n",
    "best_param_rf = grid_rf.best_params_\n",
    "# Menampilkan best parameter\n",
    "print(best_param_rf)\n",
    "print('\\n')\n",
    "# mendefinsiikan estimator yang terbaik\n",
    "best_pipe_rf = grid_rf.best_estimator_\n",
    "# menampilkan estimator yang terbaik\n",
    "print(best_pipe_rf)\n",
    "print('\\n')\n",
    "# Membuat dataframe untuk result_df_rf\n",
    "result_df_rf = pd.DataFrame.from_dict(grid_rf.cv_results_, orient='columns')\n",
    "# menampilkan kolom result_df_rf\n",
    "print(result_df_rf.columns)"
   ]
  },
  {
   "cell_type": "markdown",
   "metadata": {},
   "source": [
    "**Insight:** Hasil parameter yang optimal untuk Random Forest adalah 'classifier__max_depth': 6, 'classifier__n_estimators': 320 dengan scalling menggunakan MinMaxScaler. Hal ini didapatkan karena menggunakan metode grid search. Dari beberapa hyperparameter yang didefinisikan, dicari kombinasi hyperparameter yang menghasilkan nilai performa paling bagus untuk model. "
   ]
  },
  {
   "cell_type": "code",
   "execution_count": 108,
   "metadata": {},
   "outputs": [
    {
     "name": "stdout",
     "output_type": "stream",
     "text": [
      "              precision    recall  f1-score   support\n",
      "\n",
      "         0.0       0.75      0.66      0.70      6124\n",
      "         1.0       0.72      0.79      0.75      6680\n",
      "\n",
      "    accuracy                           0.73     12804\n",
      "   macro avg       0.73      0.73      0.73     12804\n",
      "weighted avg       0.73      0.73      0.73     12804\n",
      "\n"
     ]
    }
   ],
   "source": [
    "print(classification_report(y_test, best_pipe_rf.predict(X_test)))"
   ]
  },
  {
   "cell_type": "markdown",
   "metadata": {},
   "source": [
    "**Insigth:** Jika dilihat dari presisi, recall, dan f1-score nya, semua nilai setelah tuning mengalami peningkatan khususnya pada recall jika dilihat nilai kelas No diabetes mengalami kenaikan 1% dan pada kelas Diabetes meningkat sebesar 7%."
   ]
  },
  {
   "cell_type": "markdown",
   "metadata": {},
   "source": [
    "## XGBoost"
   ]
  },
  {
   "cell_type": "code",
   "execution_count": 109,
   "metadata": {},
   "outputs": [],
   "source": [
    "# proses grid search untuk tuning hyperparameter secara paralel\n",
    "grid_xgb = GridSearchCV(pipe_xgb, param_grid=param_xgb, cv=stratified_kfold, n_jobs=-1).fit(X_train, y_train)"
   ]
  },
  {
   "cell_type": "code",
   "execution_count": 110,
   "metadata": {},
   "outputs": [
    {
     "name": "stdout",
     "output_type": "stream",
     "text": [
      "Train Set Score :  0.7360199937519525\n",
      "Test Set Score :  0.7338331771321462\n"
     ]
    }
   ],
   "source": [
    "# Menampilkan hasil train dan test setelah dilakukan tuning\n",
    "print('Train Set Score : ', grid_xgb.score(X_train, y_train))\n",
    "print('Test Set Score : ', grid_xgb.score(X_test, y_test))"
   ]
  },
  {
   "cell_type": "markdown",
   "metadata": {},
   "source": [
    "**Insight:** Hasil tuning dari model XGBoost menghasilkan model yang dapat memberikan performa yang lebih baik dikarenakan nilai training dan testing nya yang lebih seimbang dan sama dibandingkan dengan nilai sebelum tuning yang mana memiliki gap sebesar 2%. Walaupun nilai training berkurang sebanyak 2% jika dibandignkan dengan yang sebelum tuning, hasil akurasi testing setelah tuning lebih bagus 1%. "
   ]
  },
  {
   "cell_type": "code",
   "execution_count": 111,
   "metadata": {},
   "outputs": [
    {
     "name": "stdout",
     "output_type": "stream",
     "text": [
      "{'classifier__learning_rate': 0.1, 'classifier__max_depth': 3, 'classifier__n_estimators': 150, 'transformer__verbose': 0}\n",
      "\n",
      "\n",
      "Pipeline(steps=[('transformer',\n",
      "                 ColumnTransformer(transformers=[('scaler', MinMaxScaler(),\n",
      "                                                  ['Age', 'BMI', 'PhysHlth']),\n",
      "                                                 ('encoding', OrdinalEncoder(),\n",
      "                                                  ['HighChol', 'GenHlth',\n",
      "                                                   'PhysActivity', 'HighBP'])],\n",
      "                                   verbose=0)),\n",
      "                ('classifier',\n",
      "                 XGBClassifier(base_score=None, booster=None, callbacks=None,\n",
      "                               colsample_bylevel=None, colsample_bynode=None,\n",
      "                               colsample_bytree=None, device=...\n",
      "                               feature_types=None, gamma=None, grow_policy=None,\n",
      "                               importance_type=None,\n",
      "                               interaction_constraints=None, learning_rate=0.1,\n",
      "                               max_bin=None, max_cat_threshold=None,\n",
      "                               max_cat_to_onehot=None, max_delta_step=None,\n",
      "                               max_depth=3, max_leaves=None,\n",
      "                               min_child_weight=None, missing=nan,\n",
      "                               monotone_constraints=None, multi_strategy=None,\n",
      "                               n_estimators=150, n_jobs=None,\n",
      "                               num_parallel_tree=None, random_state=None, ...))])\n",
      "\n",
      "\n",
      "Index(['mean_fit_time', 'std_fit_time', 'mean_score_time', 'std_score_time',\n",
      "       'param_classifier__learning_rate', 'param_classifier__max_depth',\n",
      "       'param_classifier__n_estimators', 'param_transformer__verbose',\n",
      "       'params', 'split0_test_score', 'split1_test_score', 'split2_test_score',\n",
      "       'mean_test_score', 'std_test_score', 'rank_test_score'],\n",
      "      dtype='object')\n"
     ]
    }
   ],
   "source": [
    "# Mendefinisikan parameter yang terbaik\n",
    "best_param_xgb = grid_xgb.best_params_\n",
    "# Menampilkan best parameter\n",
    "print(best_param_xgb)\n",
    "print('\\n')\n",
    "# mendefinsiikan estimator yang terbaik\n",
    "best_pipe_xgb = grid_xgb.best_estimator_\n",
    "# menampilkan estimator yang terbaik\n",
    "print(best_pipe_xgb)\n",
    "print('\\n')\n",
    "# Membuat dataframe untuk result_df_xgb\n",
    "result_df_xgb = pd.DataFrame.from_dict(grid_xgb.cv_results_, orient='columns')\n",
    "# menampilkan kolom result_df_xgb\n",
    "print(result_df_xgb.columns)"
   ]
  },
  {
   "cell_type": "markdown",
   "metadata": {},
   "source": [
    "**Insight:** Hasil parameter yang optimal untuk XGBoost adalah 'classifier__learning_rate': 0.1, 'classifier__max_depth': 3, 'classifier__n_estimators': 150, 'transformer__verbose': 0 dengan scalling menggunakan MinMaxScaler. Hal ini didapatkan karena menggunakan metode grid search. Dari beberapa hyperparameter yang didefinisikan, dicari kombinasi hyperparameter yang menghasilkan nilai performa paling bagus untuk model. "
   ]
  },
  {
   "cell_type": "code",
   "execution_count": 112,
   "metadata": {},
   "outputs": [
    {
     "name": "stdout",
     "output_type": "stream",
     "text": [
      "              precision    recall  f1-score   support\n",
      "\n",
      "         0.0       0.75      0.67      0.71      6124\n",
      "         1.0       0.72      0.79      0.76      6680\n",
      "\n",
      "    accuracy                           0.73     12804\n",
      "   macro avg       0.74      0.73      0.73     12804\n",
      "weighted avg       0.73      0.73      0.73     12804\n",
      "\n"
     ]
    }
   ],
   "source": [
    "print(classification_report(y_test, best_pipe_xgb.predict(X_test)))"
   ]
  },
  {
   "cell_type": "markdown",
   "metadata": {},
   "source": [
    "**Insigth:** Jika dilihat dari presisi, recall, dan f1-score nya, sebagian besar nilai setelah tuning tidak mengalami peningkatan secara signifikan dan nilai recall untuk kelas No diabetes menurun sebanyak 1%."
   ]
  },
  {
   "cell_type": "markdown",
   "metadata": {},
   "source": [
    "## Model After Tuning Comparison"
   ]
  },
  {
   "cell_type": "code",
   "execution_count": 113,
   "metadata": {},
   "outputs": [],
   "source": [
    "# Mendefinisikan model\n",
    "models = {\n",
    "    'SVM' : best_pipe_svm,\n",
    "    'KNN' : best_pipe_knn,\n",
    "    'Decision Tree' : best_pipe_dt,\n",
    "    'Random Forest' : best_pipe_rf,\n",
    "    'XGBoost' : best_pipe_xgb\n",
    "}\n",
    "\n",
    "# Mendefinisikan metriks\n",
    "metrics = {\n",
    "    'Accuracy' : accuracy_score,\n",
    "    'F1-Score' : f1_score,\n",
    "}\n",
    "\n",
    "# membuat dataframe hasil nilai metriks model setelah tuning\n",
    "model_tuning = pd.DataFrame(columns = models.keys(), index=['Accuracy', 'F1-Score'])\n",
    "\n",
    "# menghitung nilai metriks\n",
    "for metric in metrics.keys():\n",
    "  for model in models.keys():\n",
    "    model_tuning.loc[metric, model] = metrics[metric](y_test, models[model].predict(X_test))"
   ]
  },
  {
   "cell_type": "code",
   "execution_count": 114,
   "metadata": {},
   "outputs": [
    {
     "data": {
      "text/html": [
       "<div>\n",
       "<style scoped>\n",
       "    .dataframe tbody tr th:only-of-type {\n",
       "        vertical-align: middle;\n",
       "    }\n",
       "\n",
       "    .dataframe tbody tr th {\n",
       "        vertical-align: top;\n",
       "    }\n",
       "\n",
       "    .dataframe thead th {\n",
       "        text-align: right;\n",
       "    }\n",
       "</style>\n",
       "<table border=\"1\" class=\"dataframe\">\n",
       "  <thead>\n",
       "    <tr style=\"text-align: right;\">\n",
       "      <th></th>\n",
       "      <th>SVM</th>\n",
       "      <th>KNN</th>\n",
       "      <th>Decision Tree</th>\n",
       "      <th>Random Forest</th>\n",
       "      <th>XGBoost</th>\n",
       "    </tr>\n",
       "  </thead>\n",
       "  <tbody>\n",
       "    <tr>\n",
       "      <th>Accuracy</th>\n",
       "      <td>0.725867</td>\n",
       "      <td>0.694705</td>\n",
       "      <td>0.663855</td>\n",
       "      <td>0.68666</td>\n",
       "      <td>0.729538</td>\n",
       "    </tr>\n",
       "    <tr>\n",
       "      <th>F1-Score</th>\n",
       "      <td>0.756622</td>\n",
       "      <td>0.716595</td>\n",
       "      <td>0.669888</td>\n",
       "      <td>0.706811</td>\n",
       "      <td>0.752731</td>\n",
       "    </tr>\n",
       "  </tbody>\n",
       "</table>\n",
       "</div>"
      ],
      "text/plain": [
       "               SVM       KNN Decision Tree Random Forest   XGBoost\n",
       "Accuracy  0.725867  0.694705      0.663855       0.68666  0.729538\n",
       "F1-Score  0.756622  0.716595      0.669888      0.706811  0.752731"
      ]
     },
     "execution_count": 114,
     "metadata": {},
     "output_type": "execute_result"
    }
   ],
   "source": [
    "# Nilai akurasi dan f1 sebelum di tuning\n",
    "df_model"
   ]
  },
  {
   "cell_type": "code",
   "execution_count": 115,
   "metadata": {},
   "outputs": [
    {
     "data": {
      "text/html": [
       "<div>\n",
       "<style scoped>\n",
       "    .dataframe tbody tr th:only-of-type {\n",
       "        vertical-align: middle;\n",
       "    }\n",
       "\n",
       "    .dataframe tbody tr th {\n",
       "        vertical-align: top;\n",
       "    }\n",
       "\n",
       "    .dataframe thead th {\n",
       "        text-align: right;\n",
       "    }\n",
       "</style>\n",
       "<table border=\"1\" class=\"dataframe\">\n",
       "  <thead>\n",
       "    <tr style=\"text-align: right;\">\n",
       "      <th></th>\n",
       "      <th>SVM</th>\n",
       "      <th>KNN</th>\n",
       "      <th>Decision Tree</th>\n",
       "      <th>Random Forest</th>\n",
       "      <th>XGBoost</th>\n",
       "    </tr>\n",
       "  </thead>\n",
       "  <tbody>\n",
       "    <tr>\n",
       "      <th>Accuracy</th>\n",
       "      <td>0.730397</td>\n",
       "      <td>0.72204</td>\n",
       "      <td>0.729538</td>\n",
       "      <td>0.729772</td>\n",
       "      <td>0.733833</td>\n",
       "    </tr>\n",
       "    <tr>\n",
       "      <th>F1-Score</th>\n",
       "      <td>0.757652</td>\n",
       "      <td>0.747607</td>\n",
       "      <td>0.75424</td>\n",
       "      <td>0.754122</td>\n",
       "      <td>0.756293</td>\n",
       "    </tr>\n",
       "  </tbody>\n",
       "</table>\n",
       "</div>"
      ],
      "text/plain": [
       "               SVM       KNN Decision Tree Random Forest   XGBoost\n",
       "Accuracy  0.730397   0.72204      0.729538      0.729772  0.733833\n",
       "F1-Score  0.757652  0.747607       0.75424      0.754122  0.756293"
      ]
     },
     "execution_count": 115,
     "metadata": {},
     "output_type": "execute_result"
    }
   ],
   "source": [
    "# Nilai akurasi dan f1 setelah di tuning\n",
    "model_tuning"
   ]
  },
  {
   "cell_type": "markdown",
   "metadata": {},
   "source": [
    "**Insight:** Hasil tuning dari semua model mengalami peningkatan yang cukup baik, dari model yang menghasilkan overfitting, setelah di tuning model tidak mengalami overfitting. Hasil yang paling baik dihasilkan oleh XGBoost karena dari segi komputasi lebih sedikit dibandingkan dengan SVM dan hasil yang dapatkan tidak begitu jauh sehingga model yang digunakan untuk prediksi adalah XGBoost. "
   ]
  },
  {
   "cell_type": "markdown",
   "metadata": {},
   "source": [
    "# Model Saving"
   ]
  },
  {
   "cell_type": "code",
   "execution_count": 116,
   "metadata": {},
   "outputs": [],
   "source": [
    "#Save the Files\n",
    "pickle.dump(best_pipe_svm, open('model_svm.pkl', 'wb'))\n",
    "pickle.dump(best_pipe_dt, open('model_dt.pkl', 'wb'))\n",
    "pickle.dump(best_pipe_knn, open('model_knn.pkl', 'wb'))\n",
    "pickle.dump(best_pipe_rf, open('model_rf.pkl', 'wb'))\n",
    "pickle.dump(best_pipe_xgb, open('model_xgb.pkl', 'wb'))\n",
    "\n",
    "with open('list_num_cols.txt', 'w') as file_1:\n",
    "  json.dump(num_columns, file_1)\n",
    "\n",
    "with open('list_cat_cols.txt', 'w') as file_2:\n",
    "  json.dump(cat_columns, file_2)\n"
   ]
  },
  {
   "cell_type": "markdown",
   "metadata": {},
   "source": [
    "**insight:** Dilakukan save model dan list kolom numerik dan kategorik. Dikarenakan menggunakan pipeline, sehingga scaler dan encoding tidak perlu di save karena sudah masuk ke dalam model pipe. "
   ]
  },
  {
   "cell_type": "markdown",
   "metadata": {},
   "source": [
    "# Pengambilan Kesimpulan"
   ]
  },
  {
   "cell_type": "markdown",
   "metadata": {},
   "source": [
    "- Berdasarkan analisis yang dilakukan setelah melakukan uji coba, dataset yang merupakan data kategorik yang telah ter-encoded secara ordinal menghasilkan evaluasi yang berbeda jika data tersebut tidak dipisahkan dengan data numerik yang kontinu yang mana menghasilkan hasil yang lebih rendah dibandingkan dengan yang dipisah. Maka dari itu, pada proses feature engineering, antara data numerik kontinu dan numerik yang termasuk kategori tetap dipisah. \n",
    "- Dari kelima model yang telah dicoba, performa model paling baik ditunjukkan pada model XGBoost sebelum dan setelah tuning yang dilihat dari nilai Akurasi, f1 score, recall, dan precision. Karena prediksi merupakan prediksi apakah seseorang mengalami diabetes atau tidak, maka yang paling diperhatikan adalah matriks recallnya walaupun tetap saja matriks lainnya dipertimbangkan seperti F1-score juga penting untuk dipertimbangkan.\n",
    "- Hasil performa dari model masih dapat ditingkatkan dengan melakukan feature selection kembali, mengurangi jumlah data sehingga mengurangi kompleksitas dari model, dan mencari tuning hyperparameter yang lebih sesuai.\n"
   ]
  }
 ],
 "metadata": {
  "kernelspec": {
   "display_name": "Python 3",
   "language": "python",
   "name": "python3"
  },
  "language_info": {
   "codemirror_mode": {
    "name": "ipython",
    "version": 3
   },
   "file_extension": ".py",
   "mimetype": "text/x-python",
   "name": "python",
   "nbconvert_exporter": "python",
   "pygments_lexer": "ipython3",
   "version": "3.10.13"
  }
 },
 "nbformat": 4,
 "nbformat_minor": 2
}
