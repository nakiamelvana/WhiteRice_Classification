{
 "cells": [
  {
   "cell_type": "markdown",
   "metadata": {},
   "source": [
    "=================================================\n",
    "\n",
    "### Milestone 2\n",
    "\n",
    "Nama  : Nakia Melvana\n",
    "\n",
    "Batch : RMT-026\n",
    "\n",
    "**Program ini dibuat mendeteksi penyakit Diabetes berdasarkan input parameternya, seperti umur, gender, status perokok, dan lainnya menggunakan pemodelan Machine Learning dengan algoritma SVM, KNN, Random Forest, Decision Tree, dan XGBoost. Metric yang digunakan adalah akurasi, presisi, f1-score, dan recall. Selain itu juga digunakan Cross validation.**\n",
    "\n",
    "================================================="
   ]
  },
  {
   "cell_type": "markdown",
   "metadata": {},
   "source": [
    "# Import Libraries"
   ]
  },
  {
   "cell_type": "code",
   "execution_count": 1,
   "metadata": {},
   "outputs": [],
   "source": [
    "import json\n",
    "import pickle\n",
    "import pandas as pd"
   ]
  },
  {
   "cell_type": "markdown",
   "metadata": {},
   "source": [
    "# Model Inference"
   ]
  },
  {
   "cell_type": "code",
   "execution_count": 2,
   "metadata": {},
   "outputs": [
    {
     "data": {
      "text/html": [
       "<div>\n",
       "<style scoped>\n",
       "    .dataframe tbody tr th:only-of-type {\n",
       "        vertical-align: middle;\n",
       "    }\n",
       "\n",
       "    .dataframe tbody tr th {\n",
       "        vertical-align: top;\n",
       "    }\n",
       "\n",
       "    .dataframe thead th {\n",
       "        text-align: right;\n",
       "    }\n",
       "</style>\n",
       "<table border=\"1\" class=\"dataframe\">\n",
       "  <thead>\n",
       "    <tr style=\"text-align: right;\">\n",
       "      <th></th>\n",
       "      <th>Age</th>\n",
       "      <th>Sex</th>\n",
       "      <th>HighChol</th>\n",
       "      <th>CholCheck</th>\n",
       "      <th>BMI</th>\n",
       "      <th>Smoker</th>\n",
       "      <th>HeartDiseaseorAttack</th>\n",
       "      <th>PhysActivity</th>\n",
       "      <th>Fruits</th>\n",
       "      <th>Veggies</th>\n",
       "      <th>HvyAlcoholConsump</th>\n",
       "      <th>GenHlth</th>\n",
       "      <th>MentHlth</th>\n",
       "      <th>PhysHlth</th>\n",
       "      <th>DiffWalk</th>\n",
       "      <th>Stroke</th>\n",
       "      <th>HighBP</th>\n",
       "    </tr>\n",
       "  </thead>\n",
       "  <tbody>\n",
       "    <tr>\n",
       "      <th>0</th>\n",
       "      <td>13.0</td>\n",
       "      <td>0.0</td>\n",
       "      <td>0.0</td>\n",
       "      <td>1.0</td>\n",
       "      <td>37.0</td>\n",
       "      <td>1.0</td>\n",
       "      <td>0.0</td>\n",
       "      <td>0.0</td>\n",
       "      <td>1.0</td>\n",
       "      <td>1.0</td>\n",
       "      <td>0.0</td>\n",
       "      <td>4.0</td>\n",
       "      <td>5.0</td>\n",
       "      <td>10.0</td>\n",
       "      <td>1.0</td>\n",
       "      <td>0.0</td>\n",
       "      <td>1.0</td>\n",
       "    </tr>\n",
       "  </tbody>\n",
       "</table>\n",
       "</div>"
      ],
      "text/plain": [
       "    Age  Sex  HighChol  CholCheck   BMI  Smoker  HeartDiseaseorAttack  \\\n",
       "0  13.0  0.0       0.0        1.0  37.0     1.0                   0.0   \n",
       "\n",
       "   PhysActivity  Fruits  Veggies  HvyAlcoholConsump  GenHlth  MentHlth  \\\n",
       "0           0.0     1.0      1.0                0.0      4.0       5.0   \n",
       "\n",
       "   PhysHlth  DiffWalk  Stroke  HighBP  \n",
       "0      10.0       1.0     0.0     1.0  "
      ]
     },
     "execution_count": 2,
     "metadata": {},
     "output_type": "execute_result"
    }
   ],
   "source": [
    "# Memanggil file yang akan digunakan di dalam model inference\n",
    "with open('list_num_cols.txt', 'r') as f1:\n",
    "  list_num_cols = json.load(f1)\n",
    "\n",
    "with open('list_cat_cols.txt', 'r') as f2:\n",
    "  list_cat_cols = json.load(f2)\n",
    "\n",
    "with open(\"model_xgb.pkl\", \"rb\") as f3:\n",
    "  model_xgb = pickle.load(f3)\n",
    "\n",
    "# Mendefinisikan data inference dan dibuat kedalam dataframe\n",
    "data_inf = pd.DataFrame({\n",
    "   'Age' : [13.0], \n",
    "   'Sex' : [0.0], \n",
    "   'HighChol' : [0.0], \n",
    "   'CholCheck' : [1.0], \n",
    "   'BMI': [37.0], \n",
    "   'Smoker': [1.0],\n",
    "   'HeartDiseaseorAttack' : [0.0], \n",
    "   'PhysActivity' : [0.0], \n",
    "   'Fruits': [1.0], \n",
    "   'Veggies': [1.0],\n",
    "   'HvyAlcoholConsump': [0.0], \n",
    "   'GenHlth' : [4.0], \n",
    "   'MentHlth' : [5.0], \n",
    "   'PhysHlth' : [10.0], \n",
    "   'DiffWalk' : [1.0],\n",
    "   'Stroke' : [0.0], \n",
    "   'HighBP' : [1.0]\n",
    "})\n",
    "\n",
    "# Menampilkan data inference yang telah dibuat\n",
    "data_inf"
   ]
  },
  {
   "cell_type": "markdown",
   "metadata": {},
   "source": [
    "**Insight:** Data inference dibuat guna menguji kinerja dari model yang telah dirancang, apakah menghasilkan nilai yang sesuai atau tidak. Input nilai dari masing-masing kolom bukan merupakan nilai yang ada pada dataset train maupun test. Jadi model benar-benar memprediksi dari data yang tidak dikenal sebelumnya. Model yang digunakan adalah model SVM dikarenakan dari hasil evaluasi, model ini yang paling baik jika dibandingkan dengan model lainnya."
   ]
  },
  {
   "cell_type": "code",
   "execution_count": 3,
   "metadata": {},
   "outputs": [
    {
     "data": {
      "text/html": [
       "<div>\n",
       "<style scoped>\n",
       "    .dataframe tbody tr th:only-of-type {\n",
       "        vertical-align: middle;\n",
       "    }\n",
       "\n",
       "    .dataframe tbody tr th {\n",
       "        vertical-align: top;\n",
       "    }\n",
       "\n",
       "    .dataframe thead th {\n",
       "        text-align: right;\n",
       "    }\n",
       "</style>\n",
       "<table border=\"1\" class=\"dataframe\">\n",
       "  <thead>\n",
       "    <tr style=\"text-align: right;\">\n",
       "      <th></th>\n",
       "      <th>Age</th>\n",
       "      <th>Sex</th>\n",
       "      <th>HighChol</th>\n",
       "      <th>CholCheck</th>\n",
       "      <th>BMI</th>\n",
       "      <th>Smoker</th>\n",
       "      <th>HeartDiseaseorAttack</th>\n",
       "      <th>PhysActivity</th>\n",
       "      <th>Fruits</th>\n",
       "      <th>Veggies</th>\n",
       "      <th>HvyAlcoholConsump</th>\n",
       "      <th>GenHlth</th>\n",
       "      <th>MentHlth</th>\n",
       "      <th>PhysHlth</th>\n",
       "      <th>DiffWalk</th>\n",
       "      <th>Stroke</th>\n",
       "      <th>HighBP</th>\n",
       "      <th>prediction</th>\n",
       "    </tr>\n",
       "  </thead>\n",
       "  <tbody>\n",
       "    <tr>\n",
       "      <th>0</th>\n",
       "      <td>13.0</td>\n",
       "      <td>0.0</td>\n",
       "      <td>0.0</td>\n",
       "      <td>1.0</td>\n",
       "      <td>37.0</td>\n",
       "      <td>1.0</td>\n",
       "      <td>0.0</td>\n",
       "      <td>0.0</td>\n",
       "      <td>1.0</td>\n",
       "      <td>1.0</td>\n",
       "      <td>0.0</td>\n",
       "      <td>4.0</td>\n",
       "      <td>5.0</td>\n",
       "      <td>10.0</td>\n",
       "      <td>1.0</td>\n",
       "      <td>0.0</td>\n",
       "      <td>1.0</td>\n",
       "      <td>1</td>\n",
       "    </tr>\n",
       "  </tbody>\n",
       "</table>\n",
       "</div>"
      ],
      "text/plain": [
       "    Age  Sex  HighChol  CholCheck   BMI  Smoker  HeartDiseaseorAttack  \\\n",
       "0  13.0  0.0       0.0        1.0  37.0     1.0                   0.0   \n",
       "\n",
       "   PhysActivity  Fruits  Veggies  HvyAlcoholConsump  GenHlth  MentHlth  \\\n",
       "0           0.0     1.0      1.0                0.0      4.0       5.0   \n",
       "\n",
       "   PhysHlth  DiffWalk  Stroke  HighBP  prediction  \n",
       "0      10.0       1.0     0.0     1.0           1  "
      ]
     },
     "execution_count": 3,
     "metadata": {},
     "output_type": "execute_result"
    }
   ],
   "source": [
    "# memprediksi data menggunakan model yang telah dibuat\n",
    "y_pred_inf =model_xgb.predict(data_inf)\n",
    "# memasukkan nilai hasil prediksi ke kolom prediction\n",
    "data_inf['prediction'] = y_pred_inf\n",
    "# menampilkan data inference yang telah diprediksi\n",
    "data_inf"
   ]
  },
  {
   "cell_type": "markdown",
   "metadata": {},
   "source": [
    "**Insight:** Dari data inference yang diberikan dihasilkan hasil prediksi bernilai 1 yang mana merupakan orang yang memiliki penyakit diabetes "
   ]
  }
 ],
 "metadata": {
  "kernelspec": {
   "display_name": "Python 3",
   "language": "python",
   "name": "python3"
  },
  "language_info": {
   "codemirror_mode": {
    "name": "ipython",
    "version": 3
   },
   "file_extension": ".py",
   "mimetype": "text/x-python",
   "name": "python",
   "nbconvert_exporter": "python",
   "pygments_lexer": "ipython3",
   "version": "3.11.7"
  }
 },
 "nbformat": 4,
 "nbformat_minor": 2
}
